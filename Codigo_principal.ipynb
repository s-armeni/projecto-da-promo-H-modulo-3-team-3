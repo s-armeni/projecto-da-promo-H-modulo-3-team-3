{
 "cells": [
  {
   "cell_type": "code",
<<<<<<< HEAD
   "execution_count": 59,
=======
   "execution_count": 1,
>>>>>>> main
   "metadata": {},
   "outputs": [],
   "source": [
    "import numpy as np\n",
    "import pandas as pd\n",
    "import re\n",
    "# Imputación de nulos usando métodos avanzados estadísticos\n",
    "# -----------------------------------------------------------------------\n",
    "from sklearn.impute import SimpleImputer\n",
    "from sklearn.experimental import enable_iterative_imputer\n",
    "from sklearn.impute import IterativeImputer\n",
    "from sklearn.impute import KNNImputer\n",
    "\n",
    "# Librerías de visualización\n",
    "# -----------------------------------------------------------------------\n",
    "import seaborn as sns\n",
    "import matplotlib.pyplot as plt"
   ]
  },
  {
   "cell_type": "code",
<<<<<<< HEAD
   "execution_count": 3,
=======
   "execution_count": 2,
>>>>>>> main
   "metadata": {},
   "outputs": [
    {
     "data": {
      "text/html": [
       "<div>\n",
       "<style scoped>\n",
       "    .dataframe tbody tr th:only-of-type {\n",
       "        vertical-align: middle;\n",
       "    }\n",
       "\n",
       "    .dataframe tbody tr th {\n",
       "        vertical-align: top;\n",
       "    }\n",
       "\n",
       "    .dataframe thead th {\n",
       "        text-align: right;\n",
       "    }\n",
       "</style>\n",
       "<table border=\"1\" class=\"dataframe\">\n",
       "  <thead>\n",
       "    <tr style=\"text-align: right;\">\n",
       "      <th></th>\n",
       "      <th>Unnamed: 0</th>\n",
       "      <th>Age</th>\n",
       "      <th>Attrition</th>\n",
       "      <th>BusinessTravel</th>\n",
       "      <th>DailyRate</th>\n",
       "      <th>Department</th>\n",
       "      <th>DistanceFromHome</th>\n",
       "      <th>Education</th>\n",
       "      <th>EducationField</th>\n",
       "      <th>employeecount</th>\n",
       "      <th>...</th>\n",
       "      <th>YearsAtCompany</th>\n",
       "      <th>YearsInCurrentRole</th>\n",
       "      <th>YearsSinceLastPromotion</th>\n",
       "      <th>YEARSWITHCURRMANAGER</th>\n",
       "      <th>SameAsMonthlyIncome</th>\n",
       "      <th>DateBirth</th>\n",
       "      <th>Salary</th>\n",
       "      <th>RoleDepartament</th>\n",
       "      <th>NUMBERCHILDREN</th>\n",
       "      <th>RemoteWork</th>\n",
       "    </tr>\n",
       "  </thead>\n",
       "  <tbody>\n",
       "    <tr>\n",
       "      <th>0</th>\n",
       "      <td>0</td>\n",
       "      <td>51</td>\n",
       "      <td>No</td>\n",
       "      <td>NaN</td>\n",
       "      <td>684,0$</td>\n",
       "      <td>NaN</td>\n",
       "      <td>6</td>\n",
       "      <td>3</td>\n",
       "      <td>NaN</td>\n",
       "      <td>1</td>\n",
       "      <td>...</td>\n",
       "      <td>20</td>\n",
       "      <td>NaN</td>\n",
       "      <td>15</td>\n",
       "      <td>15</td>\n",
       "      <td>19537,0</td>\n",
       "      <td>1972</td>\n",
       "      <td>1000000000$</td>\n",
       "      <td>NaN</td>\n",
       "      <td>NaN</td>\n",
       "      <td>Yes</td>\n",
       "    </tr>\n",
       "    <tr>\n",
       "      <th>1</th>\n",
       "      <td>1</td>\n",
       "      <td>52</td>\n",
       "      <td>No</td>\n",
       "      <td>NaN</td>\n",
       "      <td>699,0$</td>\n",
       "      <td>NaN</td>\n",
       "      <td>1</td>\n",
       "      <td>4</td>\n",
       "      <td>Life Sciences</td>\n",
       "      <td>1</td>\n",
       "      <td>...</td>\n",
       "      <td>33</td>\n",
       "      <td>NaN</td>\n",
       "      <td>11</td>\n",
       "      <td>9</td>\n",
       "      <td>19999,0</td>\n",
       "      <td>1971</td>\n",
       "      <td>1000000000$</td>\n",
       "      <td>NaN</td>\n",
       "      <td>NaN</td>\n",
       "      <td>1</td>\n",
       "    </tr>\n",
       "    <tr>\n",
       "      <th>2</th>\n",
       "      <td>2</td>\n",
       "      <td>42</td>\n",
       "      <td>No</td>\n",
       "      <td>travel_rarely</td>\n",
       "      <td>532,0$</td>\n",
       "      <td>Research &amp; Development</td>\n",
       "      <td>4</td>\n",
       "      <td>2</td>\n",
       "      <td>Technical Degree</td>\n",
       "      <td>1</td>\n",
       "      <td>...</td>\n",
       "      <td>22</td>\n",
       "      <td>NaN</td>\n",
       "      <td>11</td>\n",
       "      <td>15</td>\n",
       "      <td>19232,0</td>\n",
       "      <td>1981</td>\n",
       "      <td>1000000000$</td>\n",
       "      <td>ManaGER  -  Research &amp; Development</td>\n",
       "      <td>NaN</td>\n",
       "      <td>1</td>\n",
       "    </tr>\n",
       "    <tr>\n",
       "      <th>3</th>\n",
       "      <td>3</td>\n",
       "      <td>47</td>\n",
       "      <td>No</td>\n",
       "      <td>travel_rarely</td>\n",
       "      <td>359,0$</td>\n",
       "      <td>NaN</td>\n",
       "      <td>2</td>\n",
       "      <td>4</td>\n",
       "      <td>Medical</td>\n",
       "      <td>1</td>\n",
       "      <td>...</td>\n",
       "      <td>20</td>\n",
       "      <td>NaN</td>\n",
       "      <td>5</td>\n",
       "      <td>6</td>\n",
       "      <td>17169,0</td>\n",
       "      <td>1976</td>\n",
       "      <td>1000000000$</td>\n",
       "      <td>NaN</td>\n",
       "      <td>NaN</td>\n",
       "      <td>False</td>\n",
       "    </tr>\n",
       "    <tr>\n",
       "      <th>4</th>\n",
       "      <td>4</td>\n",
       "      <td>46</td>\n",
       "      <td>No</td>\n",
       "      <td>NaN</td>\n",
       "      <td>1319,0$</td>\n",
       "      <td>NaN</td>\n",
       "      <td>3</td>\n",
       "      <td>3</td>\n",
       "      <td>Technical Degree</td>\n",
       "      <td>1</td>\n",
       "      <td>...</td>\n",
       "      <td>19</td>\n",
       "      <td>NaN</td>\n",
       "      <td>2</td>\n",
       "      <td>8</td>\n",
       "      <td>NaN</td>\n",
       "      <td>1977</td>\n",
       "      <td>1000000000$</td>\n",
       "      <td>NaN</td>\n",
       "      <td>NaN</td>\n",
       "      <td>0</td>\n",
       "    </tr>\n",
       "  </tbody>\n",
       "</table>\n",
       "<p>5 rows × 42 columns</p>\n",
       "</div>"
      ],
      "text/plain": [
       "   Unnamed: 0 Age Attrition BusinessTravel DailyRate  \\\n",
       "0           0  51        No            NaN    684,0$   \n",
       "1           1  52        No            NaN    699,0$   \n",
       "2           2  42        No  travel_rarely    532,0$   \n",
       "3           3  47        No  travel_rarely    359,0$   \n",
       "4           4  46        No            NaN   1319,0$   \n",
       "\n",
       "                 Department  DistanceFromHome  Education    EducationField  \\\n",
       "0                       NaN                 6          3               NaN   \n",
       "1                       NaN                 1          4     Life Sciences   \n",
       "2   Research & Development                  4          2  Technical Degree   \n",
       "3                       NaN                 2          4           Medical   \n",
       "4                       NaN                 3          3  Technical Degree   \n",
       "\n",
       "   employeecount  ... YearsAtCompany  YearsInCurrentRole  \\\n",
       "0              1  ...             20                 NaN   \n",
       "1              1  ...             33                 NaN   \n",
       "2              1  ...             22                 NaN   \n",
       "3              1  ...             20                 NaN   \n",
       "4              1  ...             19                 NaN   \n",
       "\n",
       "   YearsSinceLastPromotion YEARSWITHCURRMANAGER  SameAsMonthlyIncome  \\\n",
       "0                       15                   15              19537,0   \n",
       "1                       11                    9              19999,0   \n",
       "2                       11                   15              19232,0   \n",
       "3                        5                    6              17169,0   \n",
       "4                        2                    8                  NaN   \n",
       "\n",
       "   DateBirth       Salary                       RoleDepartament  \\\n",
       "0       1972  1000000000$                                   NaN   \n",
       "1       1971  1000000000$                                   NaN   \n",
       "2       1981  1000000000$   ManaGER  -  Research & Development    \n",
       "3       1976  1000000000$                                   NaN   \n",
       "4       1977  1000000000$                                   NaN   \n",
       "\n",
       "  NUMBERCHILDREN RemoteWork  \n",
       "0            NaN        Yes  \n",
       "1            NaN          1  \n",
       "2            NaN          1  \n",
       "3            NaN      False  \n",
       "4            NaN          0  \n",
       "\n",
       "[5 rows x 42 columns]"
      ]
     },
<<<<<<< HEAD
     "execution_count": 3,
=======
     "execution_count": 2,
>>>>>>> main
     "metadata": {},
     "output_type": "execute_result"
    }
   ],
   "source": [
    "#Importamos csv\n",
    "df=pd.read_csv('HR RAW DATA.csv')\n",
    "df.head()"
   ]
  },
  {
   "cell_type": "code",
<<<<<<< HEAD
   "execution_count": 4,
=======
   "execution_count": 3,
>>>>>>> main
   "metadata": {},
   "outputs": [
    {
     "data": {
      "text/html": [
       "<div>\n",
       "<style scoped>\n",
       "    .dataframe tbody tr th:only-of-type {\n",
       "        vertical-align: middle;\n",
       "    }\n",
       "\n",
       "    .dataframe tbody tr th {\n",
       "        vertical-align: top;\n",
       "    }\n",
       "\n",
       "    .dataframe thead th {\n",
       "        text-align: right;\n",
       "    }\n",
       "</style>\n",
       "<table border=\"1\" class=\"dataframe\">\n",
       "  <thead>\n",
       "    <tr style=\"text-align: right;\">\n",
       "      <th></th>\n",
       "      <th>Age</th>\n",
       "      <th>Attrition</th>\n",
       "      <th>BusinessTravel</th>\n",
       "      <th>DailyRate</th>\n",
       "      <th>Department</th>\n",
       "      <th>DistanceFromHome</th>\n",
       "      <th>Education</th>\n",
       "      <th>EducationField</th>\n",
       "      <th>employeecount</th>\n",
       "      <th>employeenumber</th>\n",
       "      <th>...</th>\n",
       "      <th>YearsAtCompany</th>\n",
       "      <th>YearsInCurrentRole</th>\n",
       "      <th>YearsSinceLastPromotion</th>\n",
       "      <th>YEARSWITHCURRMANAGER</th>\n",
       "      <th>SameAsMonthlyIncome</th>\n",
       "      <th>DateBirth</th>\n",
       "      <th>Salary</th>\n",
       "      <th>RoleDepartament</th>\n",
       "      <th>NUMBERCHILDREN</th>\n",
       "      <th>RemoteWork</th>\n",
       "    </tr>\n",
       "  </thead>\n",
       "  <tbody>\n",
       "    <tr>\n",
       "      <th>0</th>\n",
       "      <td>51</td>\n",
       "      <td>No</td>\n",
       "      <td>NaN</td>\n",
       "      <td>684,0$</td>\n",
       "      <td>NaN</td>\n",
       "      <td>6</td>\n",
       "      <td>3</td>\n",
       "      <td>NaN</td>\n",
       "      <td>1</td>\n",
       "      <td>162,0</td>\n",
       "      <td>...</td>\n",
       "      <td>20</td>\n",
       "      <td>NaN</td>\n",
       "      <td>15</td>\n",
       "      <td>15</td>\n",
       "      <td>19537,0</td>\n",
       "      <td>1972</td>\n",
       "      <td>1000000000$</td>\n",
       "      <td>NaN</td>\n",
       "      <td>NaN</td>\n",
       "      <td>Yes</td>\n",
       "    </tr>\n",
       "    <tr>\n",
       "      <th>1</th>\n",
       "      <td>52</td>\n",
       "      <td>No</td>\n",
       "      <td>NaN</td>\n",
       "      <td>699,0$</td>\n",
       "      <td>NaN</td>\n",
       "      <td>1</td>\n",
       "      <td>4</td>\n",
       "      <td>Life Sciences</td>\n",
       "      <td>1</td>\n",
       "      <td>259,0</td>\n",
       "      <td>...</td>\n",
       "      <td>33</td>\n",
       "      <td>NaN</td>\n",
       "      <td>11</td>\n",
       "      <td>9</td>\n",
       "      <td>19999,0</td>\n",
       "      <td>1971</td>\n",
       "      <td>1000000000$</td>\n",
       "      <td>NaN</td>\n",
       "      <td>NaN</td>\n",
       "      <td>1</td>\n",
       "    </tr>\n",
       "    <tr>\n",
       "      <th>2</th>\n",
       "      <td>42</td>\n",
       "      <td>No</td>\n",
       "      <td>travel_rarely</td>\n",
       "      <td>532,0$</td>\n",
       "      <td>Research &amp; Development</td>\n",
       "      <td>4</td>\n",
       "      <td>2</td>\n",
       "      <td>Technical Degree</td>\n",
       "      <td>1</td>\n",
       "      <td>319,0</td>\n",
       "      <td>...</td>\n",
       "      <td>22</td>\n",
       "      <td>NaN</td>\n",
       "      <td>11</td>\n",
       "      <td>15</td>\n",
       "      <td>19232,0</td>\n",
       "      <td>1981</td>\n",
       "      <td>1000000000$</td>\n",
       "      <td>ManaGER  -  Research &amp; Development</td>\n",
       "      <td>NaN</td>\n",
       "      <td>1</td>\n",
       "    </tr>\n",
       "    <tr>\n",
       "      <th>3</th>\n",
       "      <td>47</td>\n",
       "      <td>No</td>\n",
       "      <td>travel_rarely</td>\n",
       "      <td>359,0$</td>\n",
       "      <td>NaN</td>\n",
       "      <td>2</td>\n",
       "      <td>4</td>\n",
       "      <td>Medical</td>\n",
       "      <td>1</td>\n",
       "      <td>NaN</td>\n",
       "      <td>...</td>\n",
       "      <td>20</td>\n",
       "      <td>NaN</td>\n",
       "      <td>5</td>\n",
       "      <td>6</td>\n",
       "      <td>17169,0</td>\n",
       "      <td>1976</td>\n",
       "      <td>1000000000$</td>\n",
       "      <td>NaN</td>\n",
       "      <td>NaN</td>\n",
       "      <td>False</td>\n",
       "    </tr>\n",
       "    <tr>\n",
       "      <th>4</th>\n",
       "      <td>46</td>\n",
       "      <td>No</td>\n",
       "      <td>NaN</td>\n",
       "      <td>1319,0$</td>\n",
       "      <td>NaN</td>\n",
       "      <td>3</td>\n",
       "      <td>3</td>\n",
       "      <td>Technical Degree</td>\n",
       "      <td>1</td>\n",
       "      <td>NaN</td>\n",
       "      <td>...</td>\n",
       "      <td>19</td>\n",
       "      <td>NaN</td>\n",
       "      <td>2</td>\n",
       "      <td>8</td>\n",
       "      <td>NaN</td>\n",
       "      <td>1977</td>\n",
       "      <td>1000000000$</td>\n",
       "      <td>NaN</td>\n",
       "      <td>NaN</td>\n",
       "      <td>0</td>\n",
       "    </tr>\n",
       "    <tr>\n",
       "      <th>...</th>\n",
       "      <td>...</td>\n",
       "      <td>...</td>\n",
       "      <td>...</td>\n",
       "      <td>...</td>\n",
       "      <td>...</td>\n",
       "      <td>...</td>\n",
       "      <td>...</td>\n",
       "      <td>...</td>\n",
       "      <td>...</td>\n",
       "      <td>...</td>\n",
       "      <td>...</td>\n",
       "      <td>...</td>\n",
       "      <td>...</td>\n",
       "      <td>...</td>\n",
       "      <td>...</td>\n",
       "      <td>...</td>\n",
       "      <td>...</td>\n",
       "      <td>...</td>\n",
       "      <td>...</td>\n",
       "      <td>...</td>\n",
       "      <td>...</td>\n",
       "    </tr>\n",
       "    <tr>\n",
       "      <th>1609</th>\n",
       "      <td>36</td>\n",
       "      <td>Yes</td>\n",
       "      <td>travel_rarely</td>\n",
       "      <td>530,0$</td>\n",
       "      <td>NaN</td>\n",
       "      <td>3</td>\n",
       "      <td>1</td>\n",
       "      <td>Life Sciences</td>\n",
       "      <td>1</td>\n",
       "      <td>967,0</td>\n",
       "      <td>...</td>\n",
       "      <td>16</td>\n",
       "      <td>NaN</td>\n",
       "      <td>3</td>\n",
       "      <td>7</td>\n",
       "      <td>10325,0</td>\n",
       "      <td>1987</td>\n",
       "      <td>1000000000$</td>\n",
       "      <td>NaN</td>\n",
       "      <td>NaN</td>\n",
       "      <td>0</td>\n",
       "    </tr>\n",
       "    <tr>\n",
       "      <th>1610</th>\n",
       "      <td>45</td>\n",
       "      <td>No</td>\n",
       "      <td>non-travel</td>\n",
       "      <td>805,0$</td>\n",
       "      <td>NaN</td>\n",
       "      <td>4</td>\n",
       "      <td>2</td>\n",
       "      <td>NaN</td>\n",
       "      <td>1</td>\n",
       "      <td>972,0</td>\n",
       "      <td>...</td>\n",
       "      <td>9</td>\n",
       "      <td>NaN</td>\n",
       "      <td>0</td>\n",
       "      <td>8</td>\n",
       "      <td>4447,0</td>\n",
       "      <td>1978</td>\n",
       "      <td>1000000000$</td>\n",
       "      <td>NaN</td>\n",
       "      <td>NaN</td>\n",
       "      <td>1</td>\n",
       "    </tr>\n",
       "    <tr>\n",
       "      <th>1611</th>\n",
       "      <td>39</td>\n",
       "      <td>No</td>\n",
       "      <td>travel_rarely</td>\n",
       "      <td>903,0$</td>\n",
       "      <td>NaN</td>\n",
       "      <td>-13</td>\n",
       "      <td>5</td>\n",
       "      <td>NaN</td>\n",
       "      <td>1</td>\n",
       "      <td>NaN</td>\n",
       "      <td>...</td>\n",
       "      <td>8</td>\n",
       "      <td>NaN</td>\n",
       "      <td>0</td>\n",
       "      <td>7</td>\n",
       "      <td>NaN</td>\n",
       "      <td>1984</td>\n",
       "      <td>1000000000$</td>\n",
       "      <td>NaN</td>\n",
       "      <td>NaN</td>\n",
       "      <td>Yes</td>\n",
       "    </tr>\n",
       "    <tr>\n",
       "      <th>1612</th>\n",
       "      <td>36</td>\n",
       "      <td>No</td>\n",
       "      <td>non-travel</td>\n",
       "      <td>1229,0$</td>\n",
       "      <td>NaN</td>\n",
       "      <td>8</td>\n",
       "      <td>4</td>\n",
       "      <td>Technical Degree</td>\n",
       "      <td>1</td>\n",
       "      <td>990,0</td>\n",
       "      <td>...</td>\n",
       "      <td>7</td>\n",
       "      <td>NaN</td>\n",
       "      <td>0</td>\n",
       "      <td>7</td>\n",
       "      <td>NaN</td>\n",
       "      <td>1987</td>\n",
       "      <td>1000000000$</td>\n",
       "      <td>NaN</td>\n",
       "      <td>NaN</td>\n",
       "      <td>True</td>\n",
       "    </tr>\n",
       "    <tr>\n",
       "      <th>1613</th>\n",
       "      <td>46</td>\n",
       "      <td>No</td>\n",
       "      <td>NaN</td>\n",
       "      <td>566,0$</td>\n",
       "      <td>NaN</td>\n",
       "      <td>7</td>\n",
       "      <td>2</td>\n",
       "      <td>Medical</td>\n",
       "      <td>1</td>\n",
       "      <td>NaN</td>\n",
       "      <td>...</td>\n",
       "      <td>8</td>\n",
       "      <td>NaN</td>\n",
       "      <td>0</td>\n",
       "      <td>7</td>\n",
       "      <td>10845,0</td>\n",
       "      <td>1977</td>\n",
       "      <td>1000000000$</td>\n",
       "      <td>NaN</td>\n",
       "      <td>NaN</td>\n",
       "      <td>0</td>\n",
       "    </tr>\n",
       "  </tbody>\n",
       "</table>\n",
       "<p>1614 rows × 41 columns</p>\n",
       "</div>"
      ],
      "text/plain": [
       "     Age Attrition BusinessTravel DailyRate                Department  \\\n",
       "0     51        No            NaN    684,0$                       NaN   \n",
       "1     52        No            NaN    699,0$                       NaN   \n",
       "2     42        No  travel_rarely    532,0$   Research & Development    \n",
       "3     47        No  travel_rarely    359,0$                       NaN   \n",
       "4     46        No            NaN   1319,0$                       NaN   \n",
       "...   ..       ...            ...       ...                       ...   \n",
       "1609  36       Yes  travel_rarely    530,0$                       NaN   \n",
       "1610  45        No     non-travel    805,0$                       NaN   \n",
       "1611  39        No  travel_rarely    903,0$                       NaN   \n",
       "1612  36        No     non-travel   1229,0$                       NaN   \n",
       "1613  46        No            NaN    566,0$                       NaN   \n",
       "\n",
       "      DistanceFromHome  Education    EducationField  employeecount  \\\n",
       "0                    6          3               NaN              1   \n",
       "1                    1          4     Life Sciences              1   \n",
       "2                    4          2  Technical Degree              1   \n",
       "3                    2          4           Medical              1   \n",
       "4                    3          3  Technical Degree              1   \n",
       "...                ...        ...               ...            ...   \n",
       "1609                 3          1     Life Sciences              1   \n",
       "1610                 4          2               NaN              1   \n",
       "1611               -13          5               NaN              1   \n",
       "1612                 8          4  Technical Degree              1   \n",
       "1613                 7          2           Medical              1   \n",
       "\n",
       "     employeenumber  ...  YearsAtCompany  YearsInCurrentRole  \\\n",
       "0             162,0  ...              20                 NaN   \n",
       "1             259,0  ...              33                 NaN   \n",
       "2             319,0  ...              22                 NaN   \n",
       "3               NaN  ...              20                 NaN   \n",
       "4               NaN  ...              19                 NaN   \n",
       "...             ...  ...             ...                 ...   \n",
       "1609          967,0  ...              16                 NaN   \n",
       "1610          972,0  ...               9                 NaN   \n",
       "1611            NaN  ...               8                 NaN   \n",
       "1612          990,0  ...               7                 NaN   \n",
       "1613            NaN  ...               8                 NaN   \n",
       "\n",
       "     YearsSinceLastPromotion  YEARSWITHCURRMANAGER  SameAsMonthlyIncome  \\\n",
       "0                         15                    15              19537,0   \n",
       "1                         11                     9              19999,0   \n",
       "2                         11                    15              19232,0   \n",
       "3                          5                     6              17169,0   \n",
       "4                          2                     8                  NaN   \n",
       "...                      ...                   ...                  ...   \n",
       "1609                       3                     7              10325,0   \n",
       "1610                       0                     8               4447,0   \n",
       "1611                       0                     7                  NaN   \n",
       "1612                       0                     7                  NaN   \n",
       "1613                       0                     7              10845,0   \n",
       "\n",
       "     DateBirth       Salary                       RoleDepartament  \\\n",
       "0         1972  1000000000$                                   NaN   \n",
       "1         1971  1000000000$                                   NaN   \n",
       "2         1981  1000000000$   ManaGER  -  Research & Development    \n",
       "3         1976  1000000000$                                   NaN   \n",
       "4         1977  1000000000$                                   NaN   \n",
       "...        ...          ...                                   ...   \n",
       "1609      1987  1000000000$                                   NaN   \n",
       "1610      1978  1000000000$                                   NaN   \n",
       "1611      1984  1000000000$                                   NaN   \n",
       "1612      1987  1000000000$                                   NaN   \n",
       "1613      1977  1000000000$                                   NaN   \n",
       "\n",
       "     NUMBERCHILDREN  RemoteWork  \n",
       "0               NaN         Yes  \n",
       "1               NaN           1  \n",
       "2               NaN           1  \n",
       "3               NaN       False  \n",
       "4               NaN           0  \n",
       "...             ...         ...  \n",
       "1609            NaN           0  \n",
       "1610            NaN           1  \n",
       "1611            NaN         Yes  \n",
       "1612            NaN        True  \n",
       "1613            NaN           0  \n",
       "\n",
       "[1614 rows x 41 columns]"
      ]
     },
<<<<<<< HEAD
     "execution_count": 4,
=======
     "execution_count": 3,
>>>>>>> main
     "metadata": {},
     "output_type": "execute_result"
    }
   ],
   "source": [
    "#Creamos nueva variable para guardar la selección del rango de columnas que queremos.\n",
    "#Este será nuestro csv\n",
    "df_data=df.iloc[:, 1:]\n",
    "df_data"
   ]
  },
  {
   "cell_type": "code",
<<<<<<< HEAD
   "execution_count": 5,
=======
   "execution_count": 4,
>>>>>>> main
   "metadata": {},
   "outputs": [
    {
     "name": "stdout",
     "output_type": "stream",
     "text": [
      "<class 'pandas.core.frame.DataFrame'>\n",
      "RangeIndex: 1614 entries, 0 to 1613\n",
      "Data columns (total 41 columns):\n",
      " #   Column                    Non-Null Count  Dtype  \n",
      "---  ------                    --------------  -----  \n",
      " 0   Age                       1614 non-null   object \n",
      " 1   Attrition                 1614 non-null   object \n",
      " 2   BusinessTravel            842 non-null    object \n",
      " 3   DailyRate                 1614 non-null   object \n",
      " 4   Department                302 non-null    object \n",
      " 5   DistanceFromHome          1614 non-null   int64  \n",
      " 6   Education                 1614 non-null   int64  \n",
      " 7   EducationField            869 non-null    object \n",
      " 8   employeecount             1614 non-null   int64  \n",
      " 9   employeenumber            1183 non-null   object \n",
      " 10  EnvironmentSatisfaction   1614 non-null   int64  \n",
      " 11  Gender                    1614 non-null   int64  \n",
      " 12  HourlyRate                1614 non-null   object \n",
      " 13  JobInvolvement            1614 non-null   int64  \n",
      " 14  JobLevel                  1614 non-null   int64  \n",
      " 15  JobRole                   1614 non-null   object \n",
      " 16  JobSatisfaction           1614 non-null   int64  \n",
      " 17  MaritalStatus             963 non-null    object \n",
      " 18  MonthlyIncome             771 non-null    object \n",
      " 19  MonthlyRate               1614 non-null   int64  \n",
      " 20  NUMCOMPANIESWORKED        1614 non-null   int64  \n",
      " 21  Over18                    713 non-null    object \n",
      " 22  OverTime                  938 non-null    object \n",
      " 23  PercentSalaryHike         1614 non-null   int64  \n",
      " 24  PerformanceRating         1419 non-null   object \n",
      " 25  RelationshipSatisfaction  1614 non-null   int64  \n",
      " 26  StandardHours             419 non-null    object \n",
      " 27  StockOptionLevel          1614 non-null   int64  \n",
      " 28  TOTALWORKINGYEARS         1088 non-null   object \n",
      " 29  TrainingTimesLastYear     1614 non-null   int64  \n",
      " 30  WORKLIFEBALANCE           1506 non-null   object \n",
      " 31  YearsAtCompany            1614 non-null   int64  \n",
      " 32  YearsInCurrentRole        34 non-null     object \n",
      " 33  YearsSinceLastPromotion   1614 non-null   int64  \n",
      " 34  YEARSWITHCURRMANAGER      1614 non-null   int64  \n",
      " 35  SameAsMonthlyIncome       771 non-null    object \n",
      " 36  DateBirth                 1614 non-null   int64  \n",
      " 37  Salary                    1614 non-null   object \n",
      " 38  RoleDepartament           302 non-null    object \n",
      " 39  NUMBERCHILDREN            0 non-null      float64\n",
      " 40  RemoteWork                1614 non-null   object \n",
      "dtypes: float64(1), int64(18), object(22)\n",
      "memory usage: 517.1+ KB\n"
     ]
    }
   ],
   "source": [
    "#Visualizamos la información básica del DataFram\n",
    "df_data.info()"
   ]
  },
  {
   "cell_type": "code",
<<<<<<< HEAD
   "execution_count": 6,
=======
   "execution_count": 5,
>>>>>>> main
   "metadata": {},
   "outputs": [],
   "source": [
    "#Exportamos el csv\n",
    "df_data.to_csv('hr_data.csv', index=False)"
   ]
  },
  {
   "cell_type": "code",
   "execution_count": 7,
   "metadata": {},
   "outputs": [
    {
     "data": {
      "text/html": [
       "<div>\n",
       "<style scoped>\n",
       "    .dataframe tbody tr th:only-of-type {\n",
       "        vertical-align: middle;\n",
       "    }\n",
       "\n",
       "    .dataframe tbody tr th {\n",
       "        vertical-align: top;\n",
       "    }\n",
       "\n",
       "    .dataframe thead th {\n",
       "        text-align: right;\n",
       "    }\n",
       "</style>\n",
       "<table border=\"1\" class=\"dataframe\">\n",
       "  <thead>\n",
       "    <tr style=\"text-align: right;\">\n",
       "      <th></th>\n",
       "      <th>EnvironmentSatisfaction</th>\n",
       "      <th>Gender</th>\n",
       "      <th>HourlyRate</th>\n",
       "      <th>JobInvolvement</th>\n",
       "      <th>JobLevel</th>\n",
       "      <th>JobRole</th>\n",
       "      <th>JobSatisfaction</th>\n",
       "      <th>MaritalStatus</th>\n",
       "      <th>MonthlyIncome</th>\n",
       "      <th>MonthlyRate</th>\n",
       "    </tr>\n",
       "  </thead>\n",
       "  <tbody>\n",
       "    <tr>\n",
       "      <th>0</th>\n",
       "      <td>1</td>\n",
       "      <td>0</td>\n",
       "      <td>51</td>\n",
       "      <td>3</td>\n",
       "      <td>5</td>\n",
       "      <td>resEArch DIREcToR</td>\n",
       "      <td>3</td>\n",
       "      <td>NaN</td>\n",
       "      <td>19537,0</td>\n",
       "      <td>6462</td>\n",
       "    </tr>\n",
       "    <tr>\n",
       "      <th>1</th>\n",
       "      <td>3</td>\n",
       "      <td>0</td>\n",
       "      <td>65</td>\n",
       "      <td>2</td>\n",
       "      <td>5</td>\n",
       "      <td>ManAGeR</td>\n",
       "      <td>3</td>\n",
       "      <td>NaN</td>\n",
       "      <td>19999,0</td>\n",
       "      <td>5678</td>\n",
       "    </tr>\n",
       "    <tr>\n",
       "      <th>2</th>\n",
       "      <td>3</td>\n",
       "      <td>0</td>\n",
       "      <td>58</td>\n",
       "      <td>3</td>\n",
       "      <td>5</td>\n",
       "      <td>ManaGER</td>\n",
       "      <td>4</td>\n",
       "      <td>Married</td>\n",
       "      <td>19232,0</td>\n",
       "      <td>4933</td>\n",
       "    </tr>\n",
       "    <tr>\n",
       "      <th>3</th>\n",
       "      <td>1</td>\n",
       "      <td>1</td>\n",
       "      <td>82</td>\n",
       "      <td>3</td>\n",
       "      <td>4</td>\n",
       "      <td>ReseArCH DIrECtOr</td>\n",
       "      <td>3</td>\n",
       "      <td>Married</td>\n",
       "      <td>17169,0</td>\n",
       "      <td>26703</td>\n",
       "    </tr>\n",
       "    <tr>\n",
       "      <th>4</th>\n",
       "      <td>1</td>\n",
       "      <td>1</td>\n",
       "      <td>45</td>\n",
       "      <td>4</td>\n",
       "      <td>4</td>\n",
       "      <td>sAleS EXECUtIve</td>\n",
       "      <td>1</td>\n",
       "      <td>Divorced</td>\n",
       "      <td>NaN</td>\n",
       "      <td>7739</td>\n",
       "    </tr>\n",
       "    <tr>\n",
       "      <th>...</th>\n",
       "      <td>...</td>\n",
       "      <td>...</td>\n",
       "      <td>...</td>\n",
       "      <td>...</td>\n",
       "      <td>...</td>\n",
       "      <td>...</td>\n",
       "      <td>...</td>\n",
       "      <td>...</td>\n",
       "      <td>...</td>\n",
       "      <td>...</td>\n",
       "    </tr>\n",
       "    <tr>\n",
       "      <th>1609</th>\n",
       "      <td>3</td>\n",
       "      <td>0</td>\n",
       "      <td>51</td>\n",
       "      <td>2</td>\n",
       "      <td>3</td>\n",
       "      <td>saLEs ExeCUTiVe</td>\n",
       "      <td>4</td>\n",
       "      <td>Married</td>\n",
       "      <td>10325,0</td>\n",
       "      <td>5518</td>\n",
       "    </tr>\n",
       "    <tr>\n",
       "      <th>1610</th>\n",
       "      <td>3</td>\n",
       "      <td>0</td>\n",
       "      <td>57</td>\n",
       "      <td>3</td>\n",
       "      <td>2</td>\n",
       "      <td>LAboRaTOry tECHNiCIAn</td>\n",
       "      <td>2</td>\n",
       "      <td>NaN</td>\n",
       "      <td>4447,0</td>\n",
       "      <td>23163</td>\n",
       "    </tr>\n",
       "    <tr>\n",
       "      <th>1611</th>\n",
       "      <td>13</td>\n",
       "      <td>0</td>\n",
       "      <td>41</td>\n",
       "      <td>4</td>\n",
       "      <td>3</td>\n",
       "      <td>sAlES ExECUTivE</td>\n",
       "      <td>3</td>\n",
       "      <td>Single</td>\n",
       "      <td>NaN</td>\n",
       "      <td>2560</td>\n",
       "    </tr>\n",
       "    <tr>\n",
       "      <th>1612</th>\n",
       "      <td>1</td>\n",
       "      <td>0</td>\n",
       "      <td>84</td>\n",
       "      <td>3</td>\n",
       "      <td>2</td>\n",
       "      <td>SaLes ExecUtIVe</td>\n",
       "      <td>4</td>\n",
       "      <td>Divorced</td>\n",
       "      <td>NaN</td>\n",
       "      <td>25952</td>\n",
       "    </tr>\n",
       "    <tr>\n",
       "      <th>1613</th>\n",
       "      <td>4</td>\n",
       "      <td>0</td>\n",
       "      <td>75</td>\n",
       "      <td>3</td>\n",
       "      <td>3</td>\n",
       "      <td>mAnUfactURInG DiRECTOr</td>\n",
       "      <td>3</td>\n",
       "      <td>NaN</td>\n",
       "      <td>10845,0</td>\n",
       "      <td>24208</td>\n",
       "    </tr>\n",
       "  </tbody>\n",
       "</table>\n",
       "<p>1614 rows × 10 columns</p>\n",
       "</div>"
      ],
      "text/plain": [
       "      EnvironmentSatisfaction  Gender HourlyRate  JobInvolvement  JobLevel  \\\n",
       "0                           1       0         51               3         5   \n",
       "1                           3       0         65               2         5   \n",
       "2                           3       0         58               3         5   \n",
       "3                           1       1         82               3         4   \n",
       "4                           1       1         45               4         4   \n",
       "...                       ...     ...        ...             ...       ...   \n",
       "1609                        3       0         51               2         3   \n",
       "1610                        3       0         57               3         2   \n",
       "1611                       13       0         41               4         3   \n",
       "1612                        1       0         84               3         2   \n",
       "1613                        4       0         75               3         3   \n",
       "\n",
       "                       JobRole  JobSatisfaction MaritalStatus MonthlyIncome  \\\n",
       "0           resEArch DIREcToR                 3           NaN       19537,0   \n",
       "1                     ManAGeR                 3           NaN       19999,0   \n",
       "2                     ManaGER                 4       Married       19232,0   \n",
       "3           ReseArCH DIrECtOr                 3       Married       17169,0   \n",
       "4             sAleS EXECUtIve                 1      Divorced           NaN   \n",
       "...                        ...              ...           ...           ...   \n",
       "1609          saLEs ExeCUTiVe                 4       Married       10325,0   \n",
       "1610    LAboRaTOry tECHNiCIAn                 2           NaN        4447,0   \n",
       "1611          sAlES ExECUTivE                 3        Single           NaN   \n",
       "1612          SaLes ExecUtIVe                 4      Divorced           NaN   \n",
       "1613   mAnUfactURInG DiRECTOr                 3           NaN       10845,0   \n",
       "\n",
       "      MonthlyRate  \n",
       "0            6462  \n",
       "1            5678  \n",
       "2            4933  \n",
       "3           26703  \n",
       "4            7739  \n",
       "...           ...  \n",
       "1609         5518  \n",
       "1610        23163  \n",
       "1611         2560  \n",
       "1612        25952  \n",
       "1613        24208  \n",
       "\n",
       "[1614 rows x 10 columns]"
      ]
     },
     "execution_count": 7,
     "metadata": {},
     "output_type": "execute_result"
    }
   ],
   "source": [
    "#celda marga\n",
    "#Seleccionamos celdadas - enviroment satisfaction-monthly rates \n",
    "#a traves, de df.info, tenemos información sobre las columnas:\n",
    "df_columnas_parte_2=df_data.loc[:, 'EnvironmentSatisfaction':'MonthlyRate']\n",
    "df_columnas_parte_2"
   ]
  },
  {
   "cell_type": "markdown",
   "metadata": {},
   "source": [
    "LIMPIEZA DE COLUMNAS:"
   ]
  },
  {
   "cell_type": "code",
   "execution_count": 7,
   "metadata": {},
   "outputs": [
    {
     "name": "stdout",
     "output_type": "stream",
     "text": [
      "Para la columna : EnvironmentSatisfaction\n",
      "valores unicos : \n",
      "EnvironmentSatisfaction\n",
      "4     460\n",
      "3     459\n",
      "1     298\n",
      "2     297\n",
      "12      7\n",
      "35      6\n",
      "13      6\n",
      "14      5\n",
      "24      5\n",
      "47      5\n",
      "36      4\n",
      "48      4\n",
      "41      4\n",
      "46      4\n",
      "42      4\n",
      "45      3\n",
      "11      3\n",
      "22      3\n",
      "17      3\n",
      "18      3\n",
      "20      3\n",
      "25      3\n",
      "27      3\n",
      "37      2\n",
      "29      2\n",
      "19      2\n",
      "38      2\n",
      "31      2\n",
      "15      2\n",
      "16      2\n",
      "26      1\n",
      "39      1\n",
      "10      1\n",
      "49      1\n",
      "21      1\n",
      "28      1\n",
      "33      1\n",
      "43      1\n",
      "Name: count, dtype: int64\n",
      "\n",
      "-----------------------------------------------\n",
      "Para la columna : Gender\n",
      "valores unicos : \n",
      "Gender\n",
      "0    971\n",
      "1    643\n",
      "Name: count, dtype: int64\n",
      "\n",
      "-----------------------------------------------\n",
      "Para la columna : HourlyRate\n",
      "valores unicos : \n",
      "HourlyRate\n",
      "Not Available    84\n",
      "42               33\n",
      "66               32\n",
      "48               30\n",
      "57               29\n",
      "                 ..\n",
      "47               15\n",
      "53               13\n",
      "68               13\n",
      "38               12\n",
      "34               11\n",
      "Name: count, Length: 72, dtype: int64\n",
      "\n",
      "-----------------------------------------------\n",
      "Para la columna : JobInvolvement\n",
      "valores unicos : \n",
      "JobInvolvement\n",
      "3    955\n",
      "2    406\n",
      "4    164\n",
      "1     89\n",
      "Name: count, dtype: int64\n",
      "\n",
      "-----------------------------------------------\n",
      "Para la columna : JobLevel\n",
      "valores unicos : \n",
      "JobLevel\n",
      "2    597\n",
      "1    586\n",
      "3    242\n",
      "4    113\n",
      "5     76\n",
      "Name: count, dtype: int64\n",
      "\n",
      "-----------------------------------------------\n",
      "Para la columna : JobRole\n",
      "valores unicos : \n",
      "JobRole\n",
      " mANager                       4\n",
      " ManageR                       3\n",
      " ManagEr                       3\n",
      " mAnaGeR                       3\n",
      " MANAgER                       3\n",
      "                              ..\n",
      " ResEArch ScieNTiST            1\n",
      " HealthcARE RePreSENtAtiVe     1\n",
      " ReSearcH scIEntist            1\n",
      " LAbOrATOry techNicIan         1\n",
      " mAnUfactURInG DiRECTOr        1\n",
      "Name: count, Length: 1579, dtype: int64\n",
      "\n",
      "-----------------------------------------------\n",
      "Para la columna : JobSatisfaction\n",
      "valores unicos : \n",
      "JobSatisfaction\n",
      "4    514\n",
      "3    481\n",
      "1    317\n",
      "2    302\n",
      "Name: count, dtype: int64\n",
      "\n",
      "-----------------------------------------------\n",
      "Para la columna : MaritalStatus\n",
      "valores unicos : \n",
      "MaritalStatus\n",
      "Married     404\n",
      "Single      325\n",
      "Divorced    188\n",
      "Marreid      35\n",
      "divorced     11\n",
      "Name: count, dtype: int64\n",
      "\n",
      "-----------------------------------------------\n",
      "Para la columna : MonthlyIncome\n",
      "valores unicos : \n",
      "MonthlyIncome\n",
      "6347,0     4\n",
      "5304,0     4\n",
      "2657,0     3\n",
      "2258,0     3\n",
      "5405,0     2\n",
      "          ..\n",
      "3102,0     1\n",
      "4556,0     1\n",
      "4230,0     1\n",
      "4859,0     1\n",
      "19431,0    1\n",
      "Name: count, Length: 668, dtype: int64\n",
      "\n",
      "-----------------------------------------------\n",
      "Para la columna : MonthlyRate\n",
      "valores unicos : \n",
      "MonthlyRate\n",
      "9150     4\n",
      "11737    3\n",
      "17001    3\n",
      "6069     3\n",
      "21981    3\n",
      "        ..\n",
      "25470    1\n",
      "10205    1\n",
      "9973     1\n",
      "17089    1\n",
      "16642    1\n",
      "Name: count, Length: 1427, dtype: int64\n",
      "\n",
      "-----------------------------------------------\n"
     ]
    }
   ],
   "source": [
    "#sACAMOS INFORMACION DE LOS VALORES UNICOS Y TIPO QUE TIENE CADA COLUMNA\n",
    "for columna in df_columnas_parte_2.columns:#iteramos por cada columna\n",
    "    print(f'Para la columna :',columna)\n",
    "    print(f\"valores unicos : \\n{df_columnas_parte_2[columna].value_counts()}\\n\")#obtenemos la frecuencia de los valores unicos\n",
    "    \n",
    "    print('-----------------------------------------------')"
   ]
  },
  {
   "cell_type": "markdown",
   "metadata": {},
   "source": [
    "### EnvironmentSatisfaction\n",
    "\n",
    "Por definicion tiene que ser del 1-4.\n",
    "Hay valores fuera del rango. Hacemos un estudio de los mismos:\n",
    "- estan comprendidos entre 12-43. \n",
    "- con respecto al resto de frecuencuias, estos valores presentan frecuencias muy bajos del 1-7 comparado con los 200-400 de los otros.\n",
    "\n",
    "Solución:\n",
    "- valorar poner estos valores como nulos\n",
    "- extrapolar los valores en funcion de si estan comprendidos entre 10-20 (1),20-30 (2), 30-40(3), 40-50(4). calculamos las medias y observamos si hay variaciones significativas.\n"
   ]
  },
  {
   "cell_type": "code",
   "execution_count": 8,
   "metadata": {},
   "outputs": [
    {
     "data": {
      "text/html": [
       "<div>\n",
       "<style scoped>\n",
       "    .dataframe tbody tr th:only-of-type {\n",
       "        vertical-align: middle;\n",
       "    }\n",
       "\n",
       "    .dataframe tbody tr th {\n",
       "        vertical-align: top;\n",
       "    }\n",
       "\n",
       "    .dataframe thead th {\n",
       "        text-align: right;\n",
       "    }\n",
       "</style>\n",
       "<table border=\"1\" class=\"dataframe\">\n",
       "  <thead>\n",
       "    <tr style=\"text-align: right;\">\n",
       "      <th></th>\n",
       "      <th>EnvironmentSatisfaction</th>\n",
       "      <th>Gender</th>\n",
       "      <th>HourlyRate</th>\n",
       "      <th>JobInvolvement</th>\n",
       "      <th>JobLevel</th>\n",
       "      <th>JobRole</th>\n",
       "      <th>JobSatisfaction</th>\n",
       "      <th>MaritalStatus</th>\n",
       "      <th>MonthlyIncome</th>\n",
       "      <th>MonthlyRate</th>\n",
       "    </tr>\n",
       "  </thead>\n",
       "  <tbody>\n",
       "    <tr>\n",
       "      <th>24</th>\n",
       "      <td>42</td>\n",
       "      <td>0</td>\n",
       "      <td>56</td>\n",
       "      <td>3</td>\n",
       "      <td>2</td>\n",
       "      <td>SALEs exeCUtIVe</td>\n",
       "      <td>4</td>\n",
       "      <td>NaN</td>\n",
       "      <td>6201,0</td>\n",
       "      <td>2823</td>\n",
       "    </tr>\n",
       "    <tr>\n",
       "      <th>30</th>\n",
       "      <td>37</td>\n",
       "      <td>1</td>\n",
       "      <td>81</td>\n",
       "      <td>3</td>\n",
       "      <td>3</td>\n",
       "      <td>Sales ExECuTIVe</td>\n",
       "      <td>3</td>\n",
       "      <td>Divorced</td>\n",
       "      <td>10447,0</td>\n",
       "      <td>26458</td>\n",
       "    </tr>\n",
       "  </tbody>\n",
       "</table>\n",
       "</div>"
      ],
      "text/plain": [
       "    EnvironmentSatisfaction  Gender HourlyRate  JobInvolvement  JobLevel  \\\n",
       "24                       42       0         56               3         2   \n",
       "30                       37       1         81               3         3   \n",
       "\n",
       "              JobRole  JobSatisfaction MaritalStatus MonthlyIncome  \\\n",
       "24   SALEs exeCUtIVe                 4           NaN        6201,0   \n",
       "30   Sales ExECuTIVe                 3      Divorced       10447,0   \n",
       "\n",
       "    MonthlyRate  \n",
       "24         2823  \n",
       "30        26458  "
      ]
     },
     "execution_count": 8,
     "metadata": {},
     "output_type": "execute_result"
    }
   ],
   "source": [
    "\"\"\"Transformamos los datos comprendidos entre 10-50 en NULOS\"\"\"\n",
    "#Seleccionamos este rango de valores :\n",
    "df_envst_error=df_columnas_parte_2[df_columnas_parte_2['EnvironmentSatisfaction'].between(10,50,inclusive='both')]\n",
    "df_envst_error.head(2)"
   ]
  },
  {
   "cell_type": "code",
   "execution_count": 9,
   "metadata": {},
   "outputs": [
    {
     "data": {
      "text/plain": [
       "0        1\n",
       "1        3\n",
       "2        3\n",
       "3        1\n",
       "4        1\n",
       "        ..\n",
       "1609     3\n",
       "1610     3\n",
       "1611    13\n",
       "1612     1\n",
       "1613     4\n",
       "Name: EnvironmentSatisfaction, Length: 1614, dtype: int64"
      ]
     },
     "execution_count": 9,
     "metadata": {},
     "output_type": "execute_result"
    }
   ],
   "source": [
    "df_columnas_parte_2['EnvironmentSatisfaction']"
   ]
  },
  {
   "cell_type": "code",
   "execution_count": 10,
   "metadata": {},
   "outputs": [],
   "source": [
    "df_columnas_parte_2_copy1=df_columnas_parte_2.copy() #hacemos una copia"
   ]
  },
  {
   "cell_type": "markdown",
   "metadata": {},
   "source": [
    "Opcion 1:"
   ]
  },
  {
   "cell_type": "code",
   "execution_count": 11,
   "metadata": {},
   "outputs": [],
   "source": [
    "#usamos el metodo aply para transformar los datos en nulos.\n",
    "\n",
    "#definimos una funcion:\n",
    "def change_to_null(valor):\n",
    "    if 10<=valor<=50:\n",
    "        return np.nan #devolvemos un np.nan(valor Not a Number)\n",
    "    else:\n",
    "        return valor\n"
   ]
  },
  {
   "cell_type": "code",
   "execution_count": 13,
   "metadata": {},
   "outputs": [],
   "source": [
    "df_columnas_parte_2_copy1['EnvironmentSatisfaction']=df_columnas_parte_2_copy1['EnvironmentSatisfaction'].apply(change_to_null)\n"
   ]
  },
  {
   "cell_type": "code",
   "execution_count": 14,
   "metadata": {},
   "outputs": [
    {
     "data": {
      "text/plain": [
       "EnvironmentSatisfaction\n",
       "4.0    460\n",
       "3.0    459\n",
       "1.0    298\n",
       "2.0    297\n",
       "Name: count, dtype: int64"
      ]
     },
     "execution_count": 14,
     "metadata": {},
     "output_type": "execute_result"
    }
   ],
   "source": [
    "#comprobamos que han desparecido los valores más dispares:\n",
    "df_columnas_parte_2_copy1['EnvironmentSatisfaction'].value_counts()"
   ]
  },
  {
   "cell_type": "code",
   "execution_count": 15,
   "metadata": {},
   "outputs": [
    {
     "data": {
      "text/plain": [
       "100"
      ]
     },
     "execution_count": 15,
     "metadata": {},
     "output_type": "execute_result"
    }
   ],
   "source": [
    "#comprobamos cuantos valores tenemos nulos:\n",
    "df_columnas_parte_2_copy1['EnvironmentSatisfaction'].isnull().sum()"
   ]
  },
  {
   "cell_type": "markdown",
   "metadata": {},
   "source": [
    "Opcion 2:"
   ]
  },
  {
   "cell_type": "code",
   "execution_count": 20,
   "metadata": {},
   "outputs": [
    {
     "data": {
      "text/html": [
       "<div>\n",
       "<style scoped>\n",
       "    .dataframe tbody tr th:only-of-type {\n",
       "        vertical-align: middle;\n",
       "    }\n",
       "\n",
       "    .dataframe tbody tr th {\n",
       "        vertical-align: top;\n",
       "    }\n",
       "\n",
       "    .dataframe thead th {\n",
       "        text-align: right;\n",
       "    }\n",
       "</style>\n",
       "<table border=\"1\" class=\"dataframe\">\n",
       "  <thead>\n",
       "    <tr style=\"text-align: right;\">\n",
       "      <th></th>\n",
       "      <th>EnvironmentSatisfaction</th>\n",
       "      <th>Gender</th>\n",
       "      <th>HourlyRate</th>\n",
       "      <th>JobInvolvement</th>\n",
       "      <th>JobLevel</th>\n",
       "      <th>JobRole</th>\n",
       "      <th>JobSatisfaction</th>\n",
       "      <th>MaritalStatus</th>\n",
       "      <th>MonthlyIncome</th>\n",
       "      <th>MonthlyRate</th>\n",
       "    </tr>\n",
       "  </thead>\n",
       "  <tbody>\n",
       "    <tr>\n",
       "      <th>0</th>\n",
       "      <td>1.0</td>\n",
       "      <td>0</td>\n",
       "      <td>51</td>\n",
       "      <td>3</td>\n",
       "      <td>5</td>\n",
       "      <td>resEArch DIREcToR</td>\n",
       "      <td>3</td>\n",
       "      <td>NaN</td>\n",
       "      <td>19537,0</td>\n",
       "      <td>6462</td>\n",
       "    </tr>\n",
       "    <tr>\n",
       "      <th>1</th>\n",
       "      <td>3.0</td>\n",
       "      <td>0</td>\n",
       "      <td>65</td>\n",
       "      <td>2</td>\n",
       "      <td>5</td>\n",
       "      <td>ManAGeR</td>\n",
       "      <td>3</td>\n",
       "      <td>NaN</td>\n",
       "      <td>19999,0</td>\n",
       "      <td>5678</td>\n",
       "    </tr>\n",
       "  </tbody>\n",
       "</table>\n",
       "</div>"
      ],
      "text/plain": [
       "   EnvironmentSatisfaction  Gender HourlyRate  JobInvolvement  JobLevel  \\\n",
       "0                      1.0       0         51               3         5   \n",
       "1                      3.0       0         65               2         5   \n",
       "\n",
       "               JobRole  JobSatisfaction MaritalStatus MonthlyIncome  \\\n",
       "0   resEArch DIREcToR                 3           NaN       19537,0   \n",
       "1             ManAGeR                 3           NaN       19999,0   \n",
       "\n",
       "   MonthlyRate  \n",
       "0         6462  \n",
       "1         5678  "
      ]
     },
     "execution_count": 20,
     "metadata": {},
     "output_type": "execute_result"
    }
   ],
   "source": [
    "df_columnas_parte_2_copy1.head(2)"
   ]
  },
  {
   "cell_type": "code",
   "execution_count": 21,
   "metadata": {},
   "outputs": [],
   "source": [
    "# es valor int. Sin embargo, me da decimales."
   ]
  },
  {
   "cell_type": "code",
   "execution_count": 35,
   "metadata": {},
   "outputs": [],
   "source": [
    "\"\"\"Transformamos los datos comprendidos entre 10-50 en valores comprendidos en el rango seleccionado\"\"\"\n",
    "df_columnas_parte_2_copy2=df_columnas_parte_2.copy()"
   ]
  },
  {
   "cell_type": "code",
   "execution_count": 53,
   "metadata": {},
   "outputs": [],
   "source": [
    "#usamos el metodo aply para transformar los datos en nulos.\n",
    "\n",
    "#definimos una funcion:\n",
    "def extrapolate(valor):\n",
    "    if 4>=valor:\n",
    "        return valor\n",
    "    elif 4<valor<=10:\n",
    "        return 1\n",
    "    elif 10<valor<20:\n",
    "        return 2\n",
    "    elif 20<valor<30:\n",
    "        return 3\n",
    "    elif 30<valor<40:\n",
    "        return\n",
    "    elif valor>40:\n",
    "        return 4\n",
    "   "
   ]
  },
  {
   "cell_type": "code",
   "execution_count": 54,
   "metadata": {},
   "outputs": [],
   "source": [
    "#aplicamos la funcion anterior a la columna 'EnvironmentS'\n",
    "df_columnas_parte_2_copy2['EnvironmentSatisfaction']=df_columnas_parte_2_copy2['EnvironmentSatisfaction'].apply(extrapolate)\n"
   ]
  },
  {
   "cell_type": "code",
   "execution_count": 55,
   "metadata": {},
   "outputs": [
    {
     "data": {
      "text/plain": [
       "21"
      ]
     },
     "execution_count": 55,
     "metadata": {},
     "output_type": "execute_result"
    }
   ],
   "source": [
    "#antes de pasar los datos a tipo int, nos aseguramos de que no hay valores tipo Nan\n",
    "df_columnas_parte_2_copy2['EnvironmentSatisfaction'].isnull().sum()"
   ]
  },
  {
   "cell_type": "code",
   "execution_count": 58,
   "metadata": {},
   "outputs": [
    {
     "data": {
      "text/plain": [
       "count    1593.000000\n",
       "mean        2.723164\n",
       "std         1.088691\n",
       "min         1.000000\n",
       "25%         2.000000\n",
       "50%         3.000000\n",
       "75%         4.000000\n",
       "max         4.000000\n",
       "Name: EnvironmentSatisfaction, dtype: float64"
      ]
     },
     "execution_count": 58,
     "metadata": {},
     "output_type": "execute_result"
    }
   ],
   "source": [
    "#Evaluamos la informacion estadistica para ver la mejor opción para manejar los duplicados\n",
    "df_columnas_parte_2_copy2['EnvironmentSatisfaction'].describe()"
   ]
  },
  {
   "cell_type": "code",
   "execution_count": 64,
   "metadata": {},
   "outputs": [],
   "source": [
    "#manejamos los nulos:\n",
    "#Al ser 21/1614 nulos usamos simple imputer(). Comparando la media y la mediana vemos que no hay mucha diferencia por lo que usaremos la media para rellenar los valores nulos.\n",
    "imputer=SimpleImputer(strategy='mean')\n",
    "df_columnas_parte_2_copy2['EnvironmentSatisfaction']=imputer.fit_transform(df_columnas_parte_2_copy2[['EnvironmentSatisfaction']])"
   ]
  },
  {
   "cell_type": "code",
   "execution_count": 65,
   "metadata": {},
   "outputs": [
    {
     "data": {
      "text/plain": [
       "0"
      ]
     },
     "execution_count": 65,
     "metadata": {},
     "output_type": "execute_result"
    }
   ],
   "source": [
    "#comprobamos:\n",
    "df_columnas_parte_2_copy2['EnvironmentSatisfaction'].isnull().sum()"
   ]
  },
  {
   "cell_type": "code",
   "execution_count": 66,
   "metadata": {},
   "outputs": [],
   "source": [
    "#Sin nulos, procedemos  acambiar el tipo de variable:\n",
    "df_columnas_parte_2_copy2['EnvironmentSatisfaction']=df_columnas_parte_2_copy2['EnvironmentSatisfaction'].astype('int64')"
   ]
  },
  {
   "cell_type": "code",
   "execution_count": 67,
   "metadata": {},
   "outputs": [
    {
     "name": "stdout",
     "output_type": "stream",
     "text": [
      "<class 'pandas.core.frame.DataFrame'>\n",
      "RangeIndex: 1614 entries, 0 to 1613\n",
      "Data columns (total 10 columns):\n",
      " #   Column                   Non-Null Count  Dtype \n",
      "---  ------                   --------------  ----- \n",
      " 0   EnvironmentSatisfaction  1614 non-null   int64 \n",
      " 1   Gender                   1614 non-null   int64 \n",
      " 2   HourlyRate               1614 non-null   object\n",
      " 3   JobInvolvement           1614 non-null   int64 \n",
      " 4   JobLevel                 1614 non-null   int64 \n",
      " 5   JobRole                  1614 non-null   object\n",
      " 6   JobSatisfaction          1614 non-null   int64 \n",
      " 7   MaritalStatus            963 non-null    object\n",
      " 8   MonthlyIncome            771 non-null    object\n",
      " 9   MonthlyRate              1614 non-null   int64 \n",
      "dtypes: int64(6), object(4)\n",
      "memory usage: 126.2+ KB\n"
     ]
    }
   ],
   "source": [
    "df_columnas_parte_2_copy2.info()"
   ]
  },
  {
   "cell_type": "code",
   "execution_count": 46,
   "metadata": {},
   "outputs": [
    {
     "data": {
      "text/plain": [
       "EnvironmentSatisfaction\n",
       "4.0    486\n",
       "3.0    478\n",
       "2.0    331\n",
       "1.0    298\n",
       "Name: count, dtype: int64"
      ]
     },
     "execution_count": 46,
     "metadata": {},
     "output_type": "execute_result"
    }
   ],
   "source": [
    "df_columnas_parte_2_copy2['EnvironmentSatisfaction'].value_counts()"
   ]
  },
  {
   "cell_type": "code",
   "execution_count": 68,
   "metadata": {},
   "outputs": [
    {
     "data": {
      "text/plain": [
       "EnvironmentSatisfaction\n",
       "4    486\n",
       "3    478\n",
       "2    352\n",
       "1    298\n",
       "Name: count, dtype: int64"
      ]
     },
     "execution_count": 68,
     "metadata": {},
     "output_type": "execute_result"
    }
   ],
   "source": [
    "#comprobamos que se han aplicado los cambios en la columna:\n",
    "df_columnas_parte_2_copy2['EnvironmentSatisfaction'].value_counts()"
   ]
  },
  {
   "cell_type": "code",
   "execution_count": 23,
   "metadata": {},
   "outputs": [
    {
     "data": {
      "text/plain": [
       "count    1614.000000\n",
       "mean        4.294919\n",
       "std         6.993559\n",
       "min         1.000000\n",
       "25%         2.000000\n",
       "50%         3.000000\n",
       "75%         4.000000\n",
       "max        49.000000\n",
       "Name: EnvironmentSatisfaction, dtype: float64"
      ]
     },
     "execution_count": 23,
     "metadata": {},
     "output_type": "execute_result"
    }
   ],
   "source": [
    "#sacmos los valores estadisticos para ver la influencia de los diferentes metodos\n",
    "#para la opcion 2, de asignar valores a aquellos que estaban más desviados. un 10% de los datos:\n",
    "df_columnas_parte_2_copy2['EnvironmentSatisfaction'].describe()"
   ]
  },
  {
   "cell_type": "code",
   "execution_count": 24,
   "metadata": {},
   "outputs": [
    {
     "data": {
      "text/plain": [
       "count    1514.000000\n",
       "mean        2.714003\n",
       "std         1.098326\n",
       "min         1.000000\n",
       "25%         2.000000\n",
       "50%         3.000000\n",
       "75%         4.000000\n",
       "max         4.000000\n",
       "Name: EnvironmentSatisfaction, dtype: float64"
      ]
     },
     "execution_count": 24,
     "metadata": {},
     "output_type": "execute_result"
    }
   ],
   "source": [
    "#para la opcion 1, pasar los valores desviados a nulos.\n",
    "df_columnas_parte_2_copy1['EnvironmentSatisfaction'].describe()"
   ]
  },
  {
   "cell_type": "code",
   "execution_count": 25,
   "metadata": {},
   "outputs": [
    {
     "data": {
      "text/plain": [
       "count    1614.000000\n",
       "mean        4.294919\n",
       "std         6.993559\n",
       "min         1.000000\n",
       "25%         2.000000\n",
       "50%         3.000000\n",
       "75%         4.000000\n",
       "max        49.000000\n",
       "Name: EnvironmentSatisfaction, dtype: float64"
      ]
     },
     "execution_count": 25,
     "metadata": {},
     "output_type": "execute_result"
    }
   ],
   "source": [
    "#datos inicales de la columna, sin transformar.\n",
    "df_columnas_parte_2['EnvironmentSatisfaction'].describe()"
   ]
  },
  {
   "cell_type": "markdown",
   "metadata": {},
   "source": [
    " conclusion:\n",
    " Los valores medios  con la opcion 2 se mantienen proxims\n",
    " Los valores  unicos tampoco varian significativamente si extrapolamos los datos."
   ]
  },
  {
   "cell_type": "markdown",
   "metadata": {},
   "source": [
    "### Age\n",
    "Transformamos los valores 0 en m (male) y 1 en f(female)\n"
   ]
  },
  {
   "cell_type": "code",
   "execution_count": 27,
   "metadata": {},
   "outputs": [],
   "source": [
    "# lo primero que vamos a hacer es crear un diccionario donde:\n",
    "# las claves sean los valores que tenemos en la columna sobre la que queremos aplicar el map\n",
    "# los valores del diccionario serán los valores nuevos que queremos tener en la columna\n",
    "# En nuestro caso queremos reemplazar los 0 por m y los 1 por f\n",
    "dicc_map = {0: \"male\", 1: \"female\"}"
   ]
  },
  {
   "cell_type": "code",
   "execution_count": 69,
   "metadata": {},
   "outputs": [
    {
     "data": {
      "text/html": [
       "<div>\n",
       "<style scoped>\n",
       "    .dataframe tbody tr th:only-of-type {\n",
       "        vertical-align: middle;\n",
       "    }\n",
       "\n",
       "    .dataframe tbody tr th {\n",
       "        vertical-align: top;\n",
       "    }\n",
       "\n",
       "    .dataframe thead th {\n",
       "        text-align: right;\n",
       "    }\n",
       "</style>\n",
       "<table border=\"1\" class=\"dataframe\">\n",
       "  <thead>\n",
       "    <tr style=\"text-align: right;\">\n",
       "      <th></th>\n",
       "      <th>EnvironmentSatisfaction</th>\n",
       "      <th>Gender</th>\n",
       "      <th>HourlyRate</th>\n",
       "      <th>JobInvolvement</th>\n",
       "      <th>JobLevel</th>\n",
       "      <th>JobRole</th>\n",
       "      <th>JobSatisfaction</th>\n",
       "      <th>MaritalStatus</th>\n",
       "      <th>MonthlyIncome</th>\n",
       "      <th>MonthlyRate</th>\n",
       "    </tr>\n",
       "  </thead>\n",
       "  <tbody>\n",
       "    <tr>\n",
       "      <th>555</th>\n",
       "      <td>4</td>\n",
       "      <td>male</td>\n",
       "      <td>45</td>\n",
       "      <td>3</td>\n",
       "      <td>2</td>\n",
       "      <td>ReseARch SciENTISt</td>\n",
       "      <td>2</td>\n",
       "      <td>Divorced</td>\n",
       "      <td>NaN</td>\n",
       "      <td>25518</td>\n",
       "    </tr>\n",
       "    <tr>\n",
       "      <th>368</th>\n",
       "      <td>1</td>\n",
       "      <td>male</td>\n",
       "      <td>41</td>\n",
       "      <td>4</td>\n",
       "      <td>3</td>\n",
       "      <td>saLEs exEcUTIVe</td>\n",
       "      <td>3</td>\n",
       "      <td>Single</td>\n",
       "      <td>NaN</td>\n",
       "      <td>2560</td>\n",
       "    </tr>\n",
       "    <tr>\n",
       "      <th>745</th>\n",
       "      <td>4</td>\n",
       "      <td>female</td>\n",
       "      <td>59</td>\n",
       "      <td>4</td>\n",
       "      <td>4</td>\n",
       "      <td>mANUfaCtURing DIReCTOr</td>\n",
       "      <td>3</td>\n",
       "      <td>Married</td>\n",
       "      <td>NaN</td>\n",
       "      <td>9731</td>\n",
       "    </tr>\n",
       "    <tr>\n",
       "      <th>1264</th>\n",
       "      <td>4</td>\n",
       "      <td>female</td>\n",
       "      <td>75</td>\n",
       "      <td>3</td>\n",
       "      <td>3</td>\n",
       "      <td>mAnageR</td>\n",
       "      <td>4</td>\n",
       "      <td>Single</td>\n",
       "      <td>13591,0</td>\n",
       "      <td>14674</td>\n",
       "    </tr>\n",
       "  </tbody>\n",
       "</table>\n",
       "</div>"
      ],
      "text/plain": [
       "      EnvironmentSatisfaction  Gender HourlyRate  JobInvolvement  JobLevel  \\\n",
       "555                         4    male         45               3         2   \n",
       "368                         1    male         41               4         3   \n",
       "745                         4  female         59               4         4   \n",
       "1264                        4  female         75               3         3   \n",
       "\n",
       "                       JobRole  JobSatisfaction MaritalStatus MonthlyIncome  \\\n",
       "555        ReseARch SciENTISt                 2      Divorced           NaN   \n",
       "368           saLEs exEcUTIVe                 3        Single           NaN   \n",
       "745    mANUfaCtURing DIReCTOr                 3       Married           NaN   \n",
       "1264                  mAnageR                 4        Single       13591,0   \n",
       "\n",
       "      MonthlyRate  \n",
       "555         25518  \n",
       "368          2560  \n",
       "745          9731  \n",
       "1264        14674  "
      ]
     },
     "execution_count": 69,
     "metadata": {},
     "output_type": "execute_result"
    }
   ],
   "source": [
    "df_columnas_parte_2_copy2['Gender'] = df_columnas_parte_2_copy2['Gender'] .map(dicc_map)\n",
    "df_columnas_parte_2_copy2.sample(4)"
   ]
  },
  {
   "cell_type": "code",
   "execution_count": 70,
   "metadata": {},
   "outputs": [
    {
     "data": {
      "text/plain": [
       "0"
      ]
     },
     "execution_count": 70,
     "metadata": {},
     "output_type": "execute_result"
    }
   ],
   "source": [
    "#Sacamos los valores nulos\n",
    "df_columnas_parte_2_copy2['Gender'].isnull().sum()"
   ]
  },
  {
   "cell_type": "code",
   "execution_count": 72,
   "metadata": {},
   "outputs": [],
   "source": [
    "#pasamos los valores a tipo object:\n",
    "df_columnas_parte_2_copy2['Gender']=df_columnas_parte_2_copy2['Gender'].astype('object')\n"
   ]
  },
  {
   "cell_type": "code",
   "execution_count": 73,
   "metadata": {},
   "outputs": [
    {
     "data": {
      "text/plain": [
       "EnvironmentSatisfaction     int64\n",
       "Gender                     object\n",
       "HourlyRate                 object\n",
       "JobInvolvement              int64\n",
       "JobLevel                    int64\n",
       "JobRole                    object\n",
       "JobSatisfaction             int64\n",
       "MaritalStatus              object\n",
       "MonthlyIncome              object\n",
       "MonthlyRate                 int64\n",
       "dtype: object"
      ]
     },
     "execution_count": 73,
     "metadata": {},
     "output_type": "execute_result"
    }
   ],
   "source": [
    "#comprobamos si se ha hecho el cambio:\n",
    "df_columnas_parte_2_copy2.dtypes"
   ]
  },
  {
   "cell_type": "markdown",
   "metadata": {},
   "source": [
    "### HoulyRate\n",
    "Observamos que dentro de sus valores unicos hay varios 'not available'\n",
    "Solucion: aplicar gestion de errores y comparar su influencia con las medias.\n",
    "cambiar tipo de dato a float"
   ]
  },
  {
   "cell_type": "code",
   "execution_count": 74,
   "metadata": {},
   "outputs": [
    {
     "data": {
      "text/plain": [
       "HourlyRate\n",
       "Not Available    84\n",
       "42               33\n",
       "66               32\n",
       "48               30\n",
       "57               29\n",
       "                 ..\n",
       "47               15\n",
       "53               13\n",
       "68               13\n",
       "38               12\n",
       "34               11\n",
       "Name: count, Length: 72, dtype: int64"
      ]
     },
     "execution_count": 74,
     "metadata": {},
     "output_type": "execute_result"
    }
   ],
   "source": [
    "df_columnas_parte_2_copy2['HourlyRate'].value_counts()"
   ]
  },
  {
   "cell_type": "code",
   "execution_count": 75,
   "metadata": {},
   "outputs": [],
   "source": [
    "#Para poder operar con la media y transformalos en float, es necesario pasar el 'not available' a valores nulo nan:\n",
    "def change_to_null1 (string):\n",
    "    if string == 'Not Available':\n",
    "        return np.nan\n",
    "    else:\n",
    "        return string"
   ]
  },
  {
   "cell_type": "code",
   "execution_count": 76,
   "metadata": {},
   "outputs": [],
   "source": [
    "#aplicamos la funcion anterior\n",
    "df_columnas_parte_2_copy2['HourlyRate']=df_columnas_parte_2_copy2['HourlyRate'].apply(change_to_null1)"
   ]
  },
  {
   "cell_type": "code",
   "execution_count": 82,
   "metadata": {},
   "outputs": [
    {
     "data": {
      "text/plain": [
       "array(['51', '65', '58', '82', '45', '99', '91', '64', '55', '68', '49',\n",
       "       '61', '79', '31', '69', '48', '80', '74', '98', '59', '33', '56',\n",
       "       '66', '57', '53', '87', '81', '84', '32', '41', '92', '47', nan,\n",
       "       '43', '86', '30', '42', '88', '96', '67', '62', '72', '78', '89',\n",
       "       '52', '50', '90', '37', '94', '76', '60', '46', '83', '100', '40',\n",
       "       '97', '54', '75', '39', '85', '63', '44', '93', '36', '35', '73',\n",
       "       '71', '70', '38', '77', '95', '34'], dtype=object)"
      ]
     },
     "execution_count": 82,
     "metadata": {},
     "output_type": "execute_result"
    }
   ],
   "source": [
    "#observamos los valores unicos para confirmar el cambio:\n",
    "df_columnas_parte_2_copy2['HourlyRate'].unique()"
   ]
  },
  {
   "cell_type": "code",
   "execution_count": 83,
   "metadata": {},
   "outputs": [
    {
     "data": {
      "text/plain": [
       "84"
      ]
     },
     "execution_count": 83,
     "metadata": {},
     "output_type": "execute_result"
    }
   ],
   "source": [
    "#comprobamos si el numero de nulos coincide con el numero de 'not available'\n",
    "df_columnas_parte_2_copy2['HourlyRate'].isnull().sum()"
   ]
  },
  {
   "cell_type": "markdown",
   "metadata": {},
   "source": [
    "conclusion:\n",
    "Hay 84/1614 valores nulos. \n",
    "Habria que estudiar el por qué estos valores son nulos. si el trabajador se encuentra en plantilla y esta en activo--------> aplicar gestion de errores IterativeImputer o KNNImputer\n"
   ]
  },
  {
   "cell_type": "code",
   "execution_count": 87,
   "metadata": {},
   "outputs": [
    {
     "data": {
      "text/plain": [
       "118      99\n",
       "418      86\n",
       "217      56\n",
       "492      62\n",
       "1312    NaN\n",
       "249      92\n",
       "605      42\n",
       "923      71\n",
       "401     NaN\n",
       "1469     31\n",
       "734      49\n",
       "455      65\n",
       "1076     90\n",
       "1414     93\n",
       "170      37\n",
       "Name: HourlyRate, dtype: object"
      ]
     },
     "execution_count": 87,
     "metadata": {},
     "output_type": "execute_result"
    }
   ],
   "source": [
    "#revisamos los valores:\n",
    "df_columnas_parte_2_copy2['HourlyRate'].sample(15)"
   ]
  },
  {
   "cell_type": "code",
   "execution_count": 88,
   "metadata": {},
   "outputs": [
    {
     "data": {
      "text/plain": [
       "HourlyRate\n",
       "42    33\n",
       "66    32\n",
       "48    30\n",
       "84    29\n",
       "57    29\n",
       "      ..\n",
       "47    15\n",
       "68    13\n",
       "53    13\n",
       "38    12\n",
       "34    11\n",
       "Name: count, Length: 71, dtype: int64"
      ]
     },
     "execution_count": 88,
     "metadata": {},
     "output_type": "execute_result"
    }
   ],
   "source": [
    "df_columnas_parte_2_copy2['HourlyRate'].value_counts()"
   ]
  },
  {
   "cell_type": "code",
   "execution_count": 90,
   "metadata": {},
   "outputs": [],
   "source": [
    "#observamos que no los valores tienen una frecuencia alta n por lo que el mejor método es KNNImputer:\n",
    "imputer_knn= KNNImputer(n_neighbors=5)\n",
    "df_columnas_parte_2_copy2['HourlyRate']=imputer_knn.fit_transform(df_columnas_parte_2_copy2[['HourlyRate']])"
   ]
  },
  {
   "cell_type": "code",
   "execution_count": 91,
   "metadata": {},
   "outputs": [
    {
     "data": {
      "text/plain": [
       "0"
      ]
     },
     "execution_count": 91,
     "metadata": {},
     "output_type": "execute_result"
    }
   ],
   "source": [
    "df_columnas_parte_2_copy2['HourlyRate'].isnull().sum()"
   ]
  },
  {
   "cell_type": "code",
   "execution_count": 92,
   "metadata": {},
   "outputs": [
    {
     "data": {
      "text/plain": [
       "count    1614.000000\n",
       "mean       66.028105\n",
       "std        19.653316\n",
       "min        30.000000\n",
       "25%        49.000000\n",
       "50%        66.028105\n",
       "75%        83.000000\n",
       "max       100.000000\n",
       "Name: HourlyRate, dtype: float64"
      ]
     },
     "execution_count": 92,
     "metadata": {},
     "output_type": "execute_result"
    }
   ],
   "source": [
    "df_columnas_parte_2_copy2['HourlyRate'].describe()"
   ]
  },
  {
   "cell_type": "markdown",
   "metadata": {},
   "source": [
    "### Job Role\n",
    "Debemos cambiar todo a minusculas.\n"
   ]
  },
  {
   "cell_type": "code",
   "execution_count": 113,
   "metadata": {},
   "outputs": [],
   "source": [
    "df_columnas_parte_2_copy2['JobRole']=df_columnas_parte_2_copy2['JobRole'].str.lower()"
   ]
  },
  {
   "cell_type": "code",
   "execution_count": 114,
   "metadata": {},
   "outputs": [
    {
     "data": {
      "text/plain": [
       "JobRole\n",
       " sales executive               369\n",
       " research scientist            314\n",
       " laboratory technician         278\n",
       " manufacturing director        158\n",
       " healthcare representative     149\n",
       " manager                       111\n",
       " sales representative           90\n",
       " research director              88\n",
       " human resources                57\n",
       "Name: count, dtype: int64"
      ]
     },
     "execution_count": 114,
     "metadata": {},
     "output_type": "execute_result"
    }
   ],
   "source": [
    "df_columnas_parte_2_copy2['JobRole'].value_counts()"
   ]
  },
  {
   "cell_type": "code",
   "execution_count": 95,
   "metadata": {},
   "outputs": [
    {
     "data": {
      "text/plain": [
       "dtype('O')"
      ]
     },
     "execution_count": 95,
     "metadata": {},
     "output_type": "execute_result"
    }
   ],
   "source": [
    "df_columnas_parte_2_copy2['JobRole'].dtypes"
   ]
  },
  {
   "cell_type": "markdown",
   "metadata": {},
   "source": [
    "### MaritalStatus\n",
    "corregimos errores de ortografia"
   ]
  },
  {
   "cell_type": "code",
   "execution_count": 99,
   "metadata": {},
   "outputs": [],
   "source": [
    "#quitamos mayusculas:\n",
    "df_columnas_parte_2_copy2['MaritalStatus']=df_columnas_parte_2_copy2['MaritalStatus'].str.lower()"
   ]
  },
  {
   "cell_type": "code",
   "execution_count": 100,
   "metadata": {},
   "outputs": [],
   "source": [
    "#usamos el metodo replace:\n",
    "df_columnas_parte_2_copy2['MaritalStatus']=df_columnas_parte_2_copy2['MaritalStatus'].replace('marreid','married')"
   ]
  },
  {
   "cell_type": "code",
   "execution_count": 101,
   "metadata": {},
   "outputs": [
    {
     "data": {
      "text/plain": [
       "array([nan, 'married', 'divorced', 'single'], dtype=object)"
      ]
     },
     "execution_count": 101,
     "metadata": {},
     "output_type": "execute_result"
    }
   ],
   "source": [
    "#sacamos los valores unicos:\n",
    "df_columnas_parte_2_copy2['MaritalStatus'].unique()"
   ]
  },
  {
   "cell_type": "code",
   "execution_count": null,
   "metadata": {},
   "outputs": [],
   "source": [
    "#observamos que hay valores nulos:\n"
   ]
  },
  {
   "cell_type": "code",
   "execution_count": 102,
   "metadata": {},
   "outputs": [
    {
     "data": {
      "text/plain": [
       "651"
      ]
     },
     "execution_count": 102,
     "metadata": {},
     "output_type": "execute_result"
    }
   ],
   "source": [
    "df_columnas_parte_2_copy3['MaritalStatus'].isnull().sum()"
   ]
  },
  {
   "cell_type": "markdown",
   "metadata": {},
   "source": [
    "conclusion:\n",
    "Hay 651/1614 nulos. Sustituir variable por una string"
   ]
  },
  {
   "cell_type": "markdown",
   "metadata": {},
   "source": [
    "### Monthly income/MonthlyRate\n",
    "Ambas cplumnas tenemos que cambiarlas al tipo float y cambiar',' por '.'"
   ]
  },
  {
   "cell_type": "code",
   "execution_count": 103,
   "metadata": {},
   "outputs": [
    {
     "name": "stdout",
     "output_type": "stream",
     "text": [
      "<class 'pandas.core.frame.DataFrame'>\n",
      "RangeIndex: 1614 entries, 0 to 1613\n",
      "Data columns (total 10 columns):\n",
      " #   Column                   Non-Null Count  Dtype  \n",
      "---  ------                   --------------  -----  \n",
      " 0   EnvironmentSatisfaction  1614 non-null   int64  \n",
      " 1   Gender                   1614 non-null   object \n",
      " 2   HourlyRate               1614 non-null   float64\n",
      " 3   JobInvolvement           1614 non-null   int64  \n",
      " 4   JobLevel                 1614 non-null   int64  \n",
      " 5   JobRole                  1614 non-null   object \n",
      " 6   JobSatisfaction          1614 non-null   int64  \n",
      " 7   MaritalStatus            963 non-null    object \n",
      " 8   MonthlyIncome            771 non-null    object \n",
      " 9   MonthlyRate              1614 non-null   int64  \n",
      "dtypes: float64(1), int64(5), object(4)\n",
      "memory usage: 126.2+ KB\n"
     ]
    }
   ],
   "source": [
    "df_columnas_parte_2_copy2.info()"
   ]
  },
  {
   "cell_type": "code",
   "execution_count": 104,
   "metadata": {},
   "outputs": [],
   "source": [
    "#al tratarse de valores tipo object, aplicamos el metodo para modificar strings:\n",
    "df_columnas_parte_2_copy2['MonthlyIncome']=df_columnas_parte_2_copy2['MonthlyIncome'].str.replace(\",\", \".\")"
   ]
  },
  {
   "cell_type": "code",
   "execution_count": 105,
   "metadata": {},
   "outputs": [],
   "source": [
    "#Cambiamos el tipo de valor \n",
    "df_columnas_parte_2_copy2['MonthlyIncome']=df_columnas_parte_2_copy2['MonthlyIncome'].astype('float64')"
   ]
  },
  {
   "cell_type": "code",
   "execution_count": 108,
   "metadata": {},
   "outputs": [
    {
     "data": {
      "text/plain": [
       "MonthlyIncome\n",
       "6347.0     4\n",
       "5304.0     4\n",
       "2657.0     3\n",
       "2258.0     3\n",
       "5405.0     2\n",
       "          ..\n",
       "3102.0     1\n",
       "4556.0     1\n",
       "4230.0     1\n",
       "4859.0     1\n",
       "19431.0    1\n",
       "Name: count, Length: 668, dtype: int64"
      ]
     },
     "execution_count": 108,
     "metadata": {},
     "output_type": "execute_result"
    }
   ],
   "source": [
    "#comprobamos\n",
    "df_columnas_parte_2_copy2['MonthlyIncome'].value_counts()"
   ]
  },
  {
   "cell_type": "code",
   "execution_count": 110,
   "metadata": {},
   "outputs": [
    {
     "data": {
      "text/plain": [
       "843"
      ]
     },
     "execution_count": 110,
     "metadata": {},
     "output_type": "execute_result"
    }
   ],
   "source": [
    "#sacamos los valores nulos\n",
    "df_columnas_parte_2_copy2['MonthlyIncome'].isnull().sum()"
   ]
  },
  {
   "cell_type": "code",
   "execution_count": 111,
   "metadata": {},
   "outputs": [
    {
     "data": {
      "text/plain": [
       "count      771.000000\n",
       "mean      6477.686122\n",
       "std       4766.119959\n",
       "min       1009.000000\n",
       "25%       2880.000000\n",
       "50%       4859.000000\n",
       "75%       8230.500000\n",
       "max      19999.000000\n",
       "Name: MonthlyIncome, dtype: float64"
      ]
     },
     "execution_count": 111,
     "metadata": {},
     "output_type": "execute_result"
    }
   ],
   "source": [
    "df_columnas_parte_2_copy2['MonthlyIncome'].describe()"
   ]
  },
  {
   "cell_type": "markdown",
   "metadata": {},
   "source": [
    "La mitad de los valores de esta columna son nulos. Valorar eliminar esta columna.\n",
    "Para tratar los valores nulos, usar IterativeImputer. \n"
   ]
  },
  {
   "cell_type": "code",
   "execution_count": 112,
   "metadata": {},
   "outputs": [
    {
     "name": "stdout",
     "output_type": "stream",
     "text": [
      "<class 'pandas.core.frame.DataFrame'>\n",
      "RangeIndex: 1614 entries, 0 to 1613\n",
      "Data columns (total 10 columns):\n",
      " #   Column                   Non-Null Count  Dtype  \n",
      "---  ------                   --------------  -----  \n",
      " 0   EnvironmentSatisfaction  1614 non-null   int64  \n",
      " 1   Gender                   1614 non-null   object \n",
      " 2   HourlyRate               1614 non-null   float64\n",
      " 3   JobInvolvement           1614 non-null   int64  \n",
      " 4   JobLevel                 1614 non-null   int64  \n",
      " 5   JobRole                  1614 non-null   object \n",
      " 6   JobSatisfaction          1614 non-null   int64  \n",
      " 7   MaritalStatus            963 non-null    object \n",
      " 8   MonthlyIncome            771 non-null    float64\n",
      " 9   MonthlyRate              1614 non-null   int64  \n",
      "dtypes: float64(2), int64(5), object(3)\n",
      "memory usage: 126.2+ KB\n"
     ]
    }
   ],
   "source": [
    "df_columnas_parte_2_copy2.info()"
   ]
  },
  {
   "cell_type": "code",
   "execution_count": 109,
   "metadata": {},
   "outputs": [
    {
     "data": {
      "text/html": [
       "<div>\n",
       "<style scoped>\n",
       "    .dataframe tbody tr th:only-of-type {\n",
       "        vertical-align: middle;\n",
       "    }\n",
       "\n",
       "    .dataframe tbody tr th {\n",
       "        vertical-align: top;\n",
       "    }\n",
       "\n",
       "    .dataframe thead th {\n",
       "        text-align: right;\n",
       "    }\n",
       "</style>\n",
       "<table border=\"1\" class=\"dataframe\">\n",
       "  <thead>\n",
       "    <tr style=\"text-align: right;\">\n",
       "      <th></th>\n",
       "      <th>EnvironmentSatisfaction</th>\n",
       "      <th>Gender</th>\n",
       "      <th>HourlyRate</th>\n",
       "      <th>JobInvolvement</th>\n",
       "      <th>JobLevel</th>\n",
       "      <th>JobRole</th>\n",
       "      <th>JobSatisfaction</th>\n",
       "      <th>MaritalStatus</th>\n",
       "      <th>MonthlyIncome</th>\n",
       "      <th>MonthlyRate</th>\n",
       "    </tr>\n",
       "  </thead>\n",
       "  <tbody>\n",
       "    <tr>\n",
       "      <th>1164</th>\n",
       "      <td>3</td>\n",
       "      <td>male</td>\n",
       "      <td>80.0</td>\n",
       "      <td>3</td>\n",
       "      <td>2</td>\n",
       "      <td>healthcare representative</td>\n",
       "      <td>3</td>\n",
       "      <td>NaN</td>\n",
       "      <td>NaN</td>\n",
       "      <td>24594</td>\n",
       "    </tr>\n",
       "    <tr>\n",
       "      <th>44</th>\n",
       "      <td>4</td>\n",
       "      <td>female</td>\n",
       "      <td>74.0</td>\n",
       "      <td>2</td>\n",
       "      <td>2</td>\n",
       "      <td>research scientist</td>\n",
       "      <td>1</td>\n",
       "      <td>divorced</td>\n",
       "      <td>4615.0</td>\n",
       "      <td>21029</td>\n",
       "    </tr>\n",
       "    <tr>\n",
       "      <th>1294</th>\n",
       "      <td>2</td>\n",
       "      <td>female</td>\n",
       "      <td>78.0</td>\n",
       "      <td>2</td>\n",
       "      <td>2</td>\n",
       "      <td>laboratory technician</td>\n",
       "      <td>3</td>\n",
       "      <td>married</td>\n",
       "      <td>3448.0</td>\n",
       "      <td>13436</td>\n",
       "    </tr>\n",
       "    <tr>\n",
       "      <th>411</th>\n",
       "      <td>2</td>\n",
       "      <td>male</td>\n",
       "      <td>64.0</td>\n",
       "      <td>3</td>\n",
       "      <td>3</td>\n",
       "      <td>sales executive</td>\n",
       "      <td>2</td>\n",
       "      <td>single</td>\n",
       "      <td>NaN</td>\n",
       "      <td>21534</td>\n",
       "    </tr>\n",
       "    <tr>\n",
       "      <th>1009</th>\n",
       "      <td>4</td>\n",
       "      <td>female</td>\n",
       "      <td>92.0</td>\n",
       "      <td>3</td>\n",
       "      <td>5</td>\n",
       "      <td>manager</td>\n",
       "      <td>1</td>\n",
       "      <td>divorced</td>\n",
       "      <td>NaN</td>\n",
       "      <td>18575</td>\n",
       "    </tr>\n",
       "    <tr>\n",
       "      <th>476</th>\n",
       "      <td>3</td>\n",
       "      <td>female</td>\n",
       "      <td>40.0</td>\n",
       "      <td>3</td>\n",
       "      <td>3</td>\n",
       "      <td>research director</td>\n",
       "      <td>3</td>\n",
       "      <td>married</td>\n",
       "      <td>NaN</td>\n",
       "      <td>26862</td>\n",
       "    </tr>\n",
       "    <tr>\n",
       "      <th>796</th>\n",
       "      <td>2</td>\n",
       "      <td>male</td>\n",
       "      <td>82.0</td>\n",
       "      <td>4</td>\n",
       "      <td>2</td>\n",
       "      <td>laboratory technician</td>\n",
       "      <td>3</td>\n",
       "      <td>NaN</td>\n",
       "      <td>4404.0</td>\n",
       "      <td>10228</td>\n",
       "    </tr>\n",
       "    <tr>\n",
       "      <th>1537</th>\n",
       "      <td>3</td>\n",
       "      <td>female</td>\n",
       "      <td>74.0</td>\n",
       "      <td>3</td>\n",
       "      <td>2</td>\n",
       "      <td>healthcare representative</td>\n",
       "      <td>3</td>\n",
       "      <td>NaN</td>\n",
       "      <td>NaN</td>\n",
       "      <td>2227</td>\n",
       "    </tr>\n",
       "    <tr>\n",
       "      <th>1484</th>\n",
       "      <td>1</td>\n",
       "      <td>male</td>\n",
       "      <td>57.0</td>\n",
       "      <td>3</td>\n",
       "      <td>1</td>\n",
       "      <td>research scientist</td>\n",
       "      <td>1</td>\n",
       "      <td>married</td>\n",
       "      <td>2042.0</td>\n",
       "      <td>15346</td>\n",
       "    </tr>\n",
       "    <tr>\n",
       "      <th>509</th>\n",
       "      <td>4</td>\n",
       "      <td>female</td>\n",
       "      <td>44.0</td>\n",
       "      <td>3</td>\n",
       "      <td>1</td>\n",
       "      <td>human resources</td>\n",
       "      <td>1</td>\n",
       "      <td>NaN</td>\n",
       "      <td>NaN</td>\n",
       "      <td>22957</td>\n",
       "    </tr>\n",
       "  </tbody>\n",
       "</table>\n",
       "</div>"
      ],
      "text/plain": [
       "      EnvironmentSatisfaction  Gender  HourlyRate  JobInvolvement  JobLevel  \\\n",
       "1164                        3    male        80.0               3         2   \n",
       "44                          4  female        74.0               2         2   \n",
       "1294                        2  female        78.0               2         2   \n",
       "411                         2    male        64.0               3         3   \n",
       "1009                        4  female        92.0               3         5   \n",
       "476                         3  female        40.0               3         3   \n",
       "796                         2    male        82.0               4         2   \n",
       "1537                        3  female        74.0               3         2   \n",
       "1484                        1    male        57.0               3         1   \n",
       "509                         4  female        44.0               3         1   \n",
       "\n",
       "                          JobRole  JobSatisfaction MaritalStatus  \\\n",
       "1164   healthcare representative                 3           NaN   \n",
       "44            research scientist                 1      divorced   \n",
       "1294       laboratory technician                 3       married   \n",
       "411              sales executive                 2        single   \n",
       "1009                     manager                 1      divorced   \n",
       "476            research director                 3       married   \n",
       "796        laboratory technician                 3           NaN   \n",
       "1537   healthcare representative                 3           NaN   \n",
       "1484          research scientist                 1       married   \n",
       "509              human resources                 1           NaN   \n",
       "\n",
       "      MonthlyIncome  MonthlyRate  \n",
       "1164            NaN        24594  \n",
       "44           4615.0        21029  \n",
       "1294         3448.0        13436  \n",
       "411             NaN        21534  \n",
       "1009            NaN        18575  \n",
       "476             NaN        26862  \n",
       "796          4404.0        10228  \n",
       "1537            NaN         2227  \n",
       "1484         2042.0        15346  \n",
       "509             NaN        22957  "
      ]
     },
     "execution_count": 109,
     "metadata": {},
     "output_type": "execute_result"
    }
   ],
   "source": [
    "df_columnas_parte_2_copy2.sample(10)"
   ]
  },
  {
   "cell_type": "markdown",
   "metadata": {},
   "source": [
    "### MonthlyRate\n",
    "Pasamos los valores a tipo float"
   ]
  },
  {
   "cell_type": "code",
   "execution_count": 115,
   "metadata": {},
   "outputs": [],
   "source": [
    "#Cambiamos el tipo de valor \n",
    "df_columnas_parte_2_copy2['MonthlyRate']=df_columnas_parte_2_copy2['MonthlyRate'].astype('float64')"
   ]
  },
  {
   "cell_type": "code",
   "execution_count": 116,
   "metadata": {},
   "outputs": [
    {
     "data": {
      "text/plain": [
       "0"
      ]
     },
     "execution_count": 116,
     "metadata": {},
     "output_type": "execute_result"
    }
   ],
   "source": [
    "#sacmos los valores nulos:\n",
    "df_columnas_parte_2_copy2['MonthlyRate'].isnull().sum()"
   ]
  },
  {
   "cell_type": "markdown",
   "metadata": {},
   "source": [
    "### Resto columnas\n",
    "\n",
    "Revisamos los valores nulos en las columnas restantes que no necesitan limpieza:\n"
   ]
  },
  {
   "cell_type": "code",
   "execution_count": 119,
   "metadata": {},
   "outputs": [
    {
     "name": "stdout",
     "output_type": "stream",
     "text": [
      "Para la columna: JobInvolvement\n",
      "valores nulos: 0\n",
      "Para la columna: JobLevel\n",
      "valores nulos: 0\n",
      "Para la columna: JobSatisfaction\n",
      "valores nulos: 0\n"
     ]
    }
   ],
   "source": [
    "lista_columnas=['JobInvolvement','JobLevel','JobSatisfaction']\n",
    "for i in lista_columnas:\n",
    "    print(f'Para la columna: {i}')\n",
    "    print(f'valores nulos: {df_columnas_parte_2_copy2[i].isnull().sum()}')"
   ]
  },
  {
   "cell_type": "markdown",
   "metadata": {},
   "source": [
    "No hay valores nulos."
   ]
  },
  {
   "cell_type": "markdown",
   "metadata": {},
   "source": [
    "### lIMPIAR NOMBRE DE COLUMNAS :"
   ]
  },
  {
   "cell_type": "code",
   "execution_count": null,
   "metadata": {},
   "outputs": [],
   "source": [
    "colum_limpias=[]\n",
    "for columna in df_columnas_parte_2:\n",
    "    patron='[A-Z][^A-Z]*'\n",
    "    columna_limpia=re.findall(patron,columna)\n",
    "    columna_limpia1='_'.join(columna_limpia)\n",
    "    columna_min=columna_limpia1.lower()\n",
    "    colum_limpias.append(columna_min)\n",
    "colum_limpias"
   ]
  },
  {
   "cell_type": "code",
   "execution_count": null,
   "metadata": {},
   "outputs": [],
   "source": []
  },
  {
   "cell_type": "code",
   "execution_count": null,
   "metadata": {},
   "outputs": [],
   "source": [
    "#Hay datos nulos?\n"
   ]
  },
  {
   "cell_type": "code",
   "execution_count": null,
   "metadata": {},
   "outputs": [],
   "source": [
    "#INFOPRMACION QUE NOS INTERESA CAMBIAR:\n"
   ]
  },
  {
   "cell_type": "code",
   "execution_count": null,
   "metadata": {},
   "outputs": [],
   "source": [
    "#celda sharon"
   ]
  },
  {
   "cell_type": "code",
   "execution_count": 6,
   "metadata": {},
   "outputs": [
    {
     "data": {
      "text/html": [
       "<div>\n",
       "<style scoped>\n",
       "    .dataframe tbody tr th:only-of-type {\n",
       "        vertical-align: middle;\n",
       "    }\n",
       "\n",
       "    .dataframe tbody tr th {\n",
       "        vertical-align: top;\n",
       "    }\n",
       "\n",
       "    .dataframe thead th {\n",
       "        text-align: right;\n",
       "    }\n",
       "</style>\n",
       "<table border=\"1\" class=\"dataframe\">\n",
       "  <thead>\n",
       "    <tr style=\"text-align: right;\">\n",
       "      <th></th>\n",
       "      <th>NUMCOMPANIESWORKED</th>\n",
       "      <th>Over18</th>\n",
       "      <th>OverTime</th>\n",
       "      <th>PercentSalaryHike</th>\n",
       "      <th>PerformanceRating</th>\n",
       "      <th>RelationshipSatisfaction</th>\n",
       "      <th>StandardHours</th>\n",
       "      <th>StockOptionLevel</th>\n",
       "      <th>TOTALWORKINGYEARS</th>\n",
       "      <th>TrainingTimesLastYear</th>\n",
       "    </tr>\n",
       "  </thead>\n",
       "  <tbody>\n",
       "    <tr>\n",
       "      <th>0</th>\n",
       "      <td>7</td>\n",
       "      <td>Y</td>\n",
       "      <td>No</td>\n",
       "      <td>13</td>\n",
       "      <td>3,0</td>\n",
       "      <td>3</td>\n",
       "      <td>NaN</td>\n",
       "      <td>0</td>\n",
       "      <td>NaN</td>\n",
       "      <td>5</td>\n",
       "    </tr>\n",
       "    <tr>\n",
       "      <th>1</th>\n",
       "      <td>0</td>\n",
       "      <td>NaN</td>\n",
       "      <td>NaN</td>\n",
       "      <td>14</td>\n",
       "      <td>3,0</td>\n",
       "      <td>1</td>\n",
       "      <td>NaN</td>\n",
       "      <td>1</td>\n",
       "      <td>34,0</td>\n",
       "      <td>5</td>\n",
       "    </tr>\n",
       "    <tr>\n",
       "      <th>2</th>\n",
       "      <td>1</td>\n",
       "      <td>NaN</td>\n",
       "      <td>No</td>\n",
       "      <td>11</td>\n",
       "      <td>3,0</td>\n",
       "      <td>4</td>\n",
       "      <td>NaN</td>\n",
       "      <td>0</td>\n",
       "      <td>22,0</td>\n",
       "      <td>3</td>\n",
       "    </tr>\n",
       "    <tr>\n",
       "      <th>3</th>\n",
       "      <td>3</td>\n",
       "      <td>Y</td>\n",
       "      <td>NaN</td>\n",
       "      <td>19</td>\n",
       "      <td>3,0</td>\n",
       "      <td>2</td>\n",
       "      <td>NaN</td>\n",
       "      <td>2</td>\n",
       "      <td>NaN</td>\n",
       "      <td>2</td>\n",
       "    </tr>\n",
       "    <tr>\n",
       "      <th>4</th>\n",
       "      <td>2</td>\n",
       "      <td>Y</td>\n",
       "      <td>No</td>\n",
       "      <td>12</td>\n",
       "      <td>3,0</td>\n",
       "      <td>4</td>\n",
       "      <td>NaN</td>\n",
       "      <td>1</td>\n",
       "      <td>NaN</td>\n",
       "      <td>5</td>\n",
       "    </tr>\n",
       "    <tr>\n",
       "      <th>...</th>\n",
       "      <td>...</td>\n",
       "      <td>...</td>\n",
       "      <td>...</td>\n",
       "      <td>...</td>\n",
       "      <td>...</td>\n",
       "      <td>...</td>\n",
       "      <td>...</td>\n",
       "      <td>...</td>\n",
       "      <td>...</td>\n",
       "      <td>...</td>\n",
       "    </tr>\n",
       "    <tr>\n",
       "      <th>1609</th>\n",
       "      <td>1</td>\n",
       "      <td>Y</td>\n",
       "      <td>NaN</td>\n",
       "      <td>11</td>\n",
       "      <td>NaN</td>\n",
       "      <td>1</td>\n",
       "      <td>NaN</td>\n",
       "      <td>1</td>\n",
       "      <td>NaN</td>\n",
       "      <td>6</td>\n",
       "    </tr>\n",
       "    <tr>\n",
       "      <th>1610</th>\n",
       "      <td>1</td>\n",
       "      <td>NaN</td>\n",
       "      <td>NaN</td>\n",
       "      <td>12</td>\n",
       "      <td>3,0</td>\n",
       "      <td>2</td>\n",
       "      <td>NaN</td>\n",
       "      <td>0</td>\n",
       "      <td>NaN</td>\n",
       "      <td>5</td>\n",
       "    </tr>\n",
       "    <tr>\n",
       "      <th>1611</th>\n",
       "      <td>0</td>\n",
       "      <td>NaN</td>\n",
       "      <td>No</td>\n",
       "      <td>18</td>\n",
       "      <td>3,0</td>\n",
       "      <td>4</td>\n",
       "      <td>NaN</td>\n",
       "      <td>0</td>\n",
       "      <td>9,0</td>\n",
       "      <td>3</td>\n",
       "    </tr>\n",
       "    <tr>\n",
       "      <th>1612</th>\n",
       "      <td>4</td>\n",
       "      <td>NaN</td>\n",
       "      <td>No</td>\n",
       "      <td>13</td>\n",
       "      <td>NaN</td>\n",
       "      <td>4</td>\n",
       "      <td>NaN</td>\n",
       "      <td>2</td>\n",
       "      <td>12,0</td>\n",
       "      <td>3</td>\n",
       "    </tr>\n",
       "    <tr>\n",
       "      <th>1613</th>\n",
       "      <td>6</td>\n",
       "      <td>Y</td>\n",
       "      <td>NaN</td>\n",
       "      <td>13</td>\n",
       "      <td>3,0</td>\n",
       "      <td>2</td>\n",
       "      <td>NaN</td>\n",
       "      <td>1</td>\n",
       "      <td>NaN</td>\n",
       "      <td>3</td>\n",
       "    </tr>\n",
       "  </tbody>\n",
       "</table>\n",
       "<p>1614 rows × 10 columns</p>\n",
       "</div>"
      ],
      "text/plain": [
       "      NUMCOMPANIESWORKED Over18 OverTime  PercentSalaryHike PerformanceRating  \\\n",
       "0                      7      Y       No                 13               3,0   \n",
       "1                      0    NaN      NaN                 14               3,0   \n",
       "2                      1    NaN       No                 11               3,0   \n",
       "3                      3      Y      NaN                 19               3,0   \n",
       "4                      2      Y       No                 12               3,0   \n",
       "...                  ...    ...      ...                ...               ...   \n",
       "1609                   1      Y      NaN                 11               NaN   \n",
       "1610                   1    NaN      NaN                 12               3,0   \n",
       "1611                   0    NaN       No                 18               3,0   \n",
       "1612                   4    NaN       No                 13               NaN   \n",
       "1613                   6      Y      NaN                 13               3,0   \n",
       "\n",
       "      RelationshipSatisfaction StandardHours  StockOptionLevel  \\\n",
       "0                            3           NaN                 0   \n",
       "1                            1           NaN                 1   \n",
       "2                            4           NaN                 0   \n",
       "3                            2           NaN                 2   \n",
       "4                            4           NaN                 1   \n",
       "...                        ...           ...               ...   \n",
       "1609                         1           NaN                 1   \n",
       "1610                         2           NaN                 0   \n",
       "1611                         4           NaN                 0   \n",
       "1612                         4           NaN                 2   \n",
       "1613                         2           NaN                 1   \n",
       "\n",
       "     TOTALWORKINGYEARS  TrainingTimesLastYear  \n",
       "0                  NaN                      5  \n",
       "1                 34,0                      5  \n",
       "2                 22,0                      3  \n",
       "3                  NaN                      2  \n",
       "4                  NaN                      5  \n",
       "...                ...                    ...  \n",
       "1609               NaN                      6  \n",
       "1610               NaN                      5  \n",
       "1611               9,0                      3  \n",
       "1612              12,0                      3  \n",
       "1613               NaN                      3  \n",
       "\n",
       "[1614 rows x 10 columns]"
      ]
     },
     "execution_count": 6,
     "metadata": {},
     "output_type": "execute_result"
    }
   ],
   "source": [
    "#celda isa\n",
    "df_col_3=df_data.iloc[:, 20:30]\n",
    "df_col_3"
   ]
  },
  {
   "cell_type": "code",
   "execution_count": 7,
   "metadata": {},
   "outputs": [
    {
     "name": "stdout",
     "output_type": "stream",
     "text": [
      "<class 'pandas.core.frame.DataFrame'>\n",
      "RangeIndex: 1614 entries, 0 to 1613\n",
      "Data columns (total 10 columns):\n",
      " #   Column                    Non-Null Count  Dtype \n",
      "---  ------                    --------------  ----- \n",
      " 0   NUMCOMPANIESWORKED        1614 non-null   int64 \n",
      " 1   Over18                    713 non-null    object\n",
      " 2   OverTime                  938 non-null    object\n",
      " 3   PercentSalaryHike         1614 non-null   int64 \n",
      " 4   PerformanceRating         1419 non-null   object\n",
      " 5   RelationshipSatisfaction  1614 non-null   int64 \n",
      " 6   StandardHours             419 non-null    object\n",
      " 7   StockOptionLevel          1614 non-null   int64 \n",
      " 8   TOTALWORKINGYEARS         1088 non-null   object\n",
      " 9   TrainingTimesLastYear     1614 non-null   int64 \n",
      "dtypes: int64(5), object(5)\n",
      "memory usage: 126.2+ KB\n"
     ]
    }
   ],
   "source": [
    "#Veo la info de cada columna\n",
    "df_col_3.info()"
   ]
  },
  {
   "cell_type": "markdown",
   "metadata": {},
   "source": [
    "1. Estandarizamos los nombres de las columnas"
   ]
  },
  {
   "cell_type": "code",
   "execution_count": 12,
   "metadata": {},
   "outputs": [],
   "source": [
    "#Quitamos espacios en blanco, en caso de que los haya\n",
    "#Utilizamos str.replace() para asegurarnos que se eliminan los espacios entre palabras, de haberlos.\n",
    "\n",
    "#1. Creamos lista con los nuevos nombres de las columnas\n",
    "#2. Iteramos las columnas del df\n",
    "new_columns=[i.replace(' ', '') for i in df_col_3.columns]\n",
    "#3. Asignamos los nuevos nombres de columnas al df\n",
    "df_col_3.columns=new_columns"
   ]
  },
  {
   "cell_type": "code",
   "execution_count": 13,
   "metadata": {},
   "outputs": [
    {
     "data": {
      "text/html": [
       "<div>\n",
       "<style scoped>\n",
       "    .dataframe tbody tr th:only-of-type {\n",
       "        vertical-align: middle;\n",
       "    }\n",
       "\n",
       "    .dataframe tbody tr th {\n",
       "        vertical-align: top;\n",
       "    }\n",
       "\n",
       "    .dataframe thead th {\n",
       "        text-align: right;\n",
       "    }\n",
       "</style>\n",
       "<table border=\"1\" class=\"dataframe\">\n",
       "  <thead>\n",
       "    <tr style=\"text-align: right;\">\n",
       "      <th></th>\n",
       "      <th>NUMCOMPANIESWORKED</th>\n",
       "      <th>Over18</th>\n",
       "      <th>OverTime</th>\n",
       "      <th>PercentSalaryHike</th>\n",
       "      <th>PerformanceRating</th>\n",
       "      <th>RelationshipSatisfaction</th>\n",
       "      <th>StandardHours</th>\n",
       "      <th>StockOptionLevel</th>\n",
       "      <th>TOTALWORKINGYEARS</th>\n",
       "      <th>TrainingTimesLastYear</th>\n",
       "    </tr>\n",
       "  </thead>\n",
       "  <tbody>\n",
       "    <tr>\n",
       "      <th>0</th>\n",
       "      <td>7</td>\n",
       "      <td>Y</td>\n",
       "      <td>No</td>\n",
       "      <td>13</td>\n",
       "      <td>3,0</td>\n",
       "      <td>3</td>\n",
       "      <td>NaN</td>\n",
       "      <td>0</td>\n",
       "      <td>NaN</td>\n",
       "      <td>5</td>\n",
       "    </tr>\n",
       "  </tbody>\n",
       "</table>\n",
       "</div>"
      ],
      "text/plain": [
       "   NUMCOMPANIESWORKED Over18 OverTime  PercentSalaryHike PerformanceRating  \\\n",
       "0                   7      Y       No                 13               3,0   \n",
       "\n",
       "   RelationshipSatisfaction StandardHours  StockOptionLevel TOTALWORKINGYEARS  \\\n",
       "0                         3           NaN                 0               NaN   \n",
       "\n",
       "   TrainingTimesLastYear  \n",
       "0                      5  "
      ]
     },
     "execution_count": 13,
     "metadata": {},
     "output_type": "execute_result"
    }
   ],
   "source": [
    "# 🗑️\n",
    "#Visualizamos para ver que salió bien\n",
    "df_col_3.head(1)"
   ]
  },
  {
   "cell_type": "code",
   "execution_count": 15,
   "metadata": {},
   "outputs": [],
   "source": [
    "#Pasamos todo a minúsculas\n",
    "new_columns2=[i.lower() for i in df_col_3.columns]\n",
    "df_col_3.columns=new_columns2"
   ]
  },
  {
   "cell_type": "code",
   "execution_count": 16,
   "metadata": {},
   "outputs": [
    {
     "data": {
      "text/html": [
       "<div>\n",
       "<style scoped>\n",
       "    .dataframe tbody tr th:only-of-type {\n",
       "        vertical-align: middle;\n",
       "    }\n",
       "\n",
       "    .dataframe tbody tr th {\n",
       "        vertical-align: top;\n",
       "    }\n",
       "\n",
       "    .dataframe thead th {\n",
       "        text-align: right;\n",
       "    }\n",
       "</style>\n",
       "<table border=\"1\" class=\"dataframe\">\n",
       "  <thead>\n",
       "    <tr style=\"text-align: right;\">\n",
       "      <th></th>\n",
       "      <th>numcompaniesworked</th>\n",
       "      <th>over18</th>\n",
       "      <th>overtime</th>\n",
       "      <th>percentsalaryhike</th>\n",
       "      <th>performancerating</th>\n",
       "      <th>relationshipsatisfaction</th>\n",
       "      <th>standardhours</th>\n",
       "      <th>stockoptionlevel</th>\n",
       "      <th>totalworkingyears</th>\n",
       "      <th>trainingtimeslastyear</th>\n",
       "    </tr>\n",
       "  </thead>\n",
       "  <tbody>\n",
       "    <tr>\n",
       "      <th>0</th>\n",
       "      <td>7</td>\n",
       "      <td>Y</td>\n",
       "      <td>No</td>\n",
       "      <td>13</td>\n",
       "      <td>3,0</td>\n",
       "      <td>3</td>\n",
       "      <td>NaN</td>\n",
       "      <td>0</td>\n",
       "      <td>NaN</td>\n",
       "      <td>5</td>\n",
       "    </tr>\n",
       "  </tbody>\n",
       "</table>\n",
       "</div>"
      ],
      "text/plain": [
       "   numcompaniesworked over18 overtime  percentsalaryhike performancerating  \\\n",
       "0                   7      Y       No                 13               3,0   \n",
       "\n",
       "   relationshipsatisfaction standardhours  stockoptionlevel totalworkingyears  \\\n",
       "0                         3           NaN                 0               NaN   \n",
       "\n",
       "   trainingtimeslastyear  \n",
       "0                      5  "
      ]
     },
     "execution_count": 16,
     "metadata": {},
     "output_type": "execute_result"
    }
   ],
   "source": [
    "# 🗑️\n",
    "#Visualizamos para ver que salió bien\n",
    "df_col_3.head(1)"
   ]
  },
  {
   "cell_type": "code",
   "execution_count": null,
   "metadata": {},
   "outputs": [],
   "source": [
    "#celda silvia"
   ]
  },
  {
   "cell_type": "code",
   "execution_count": null,
   "metadata": {},
   "outputs": [],
   "source": [
    "#celda lidia"
   ]
  }
 ],
 "metadata": {
  "kernelspec": {
   "display_name": "base",
   "language": "python",
   "name": "python3"
  },
  "language_info": {
   "codemirror_mode": {
    "name": "ipython",
    "version": 3
   },
   "file_extension": ".py",
   "mimetype": "text/x-python",
   "name": "python",
   "nbconvert_exporter": "python",
   "pygments_lexer": "ipython3",
<<<<<<< HEAD
   "version": "3.11.7"
=======
   "version": "3.9.6"
>>>>>>> main
  }
 },
 "nbformat": 4,
 "nbformat_minor": 2
}
