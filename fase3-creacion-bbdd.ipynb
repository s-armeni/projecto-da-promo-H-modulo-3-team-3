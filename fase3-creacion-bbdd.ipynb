{
 "cells": [
  {
   "cell_type": "code",
   "execution_count": null,
   "metadata": {},
   "outputs": [],
   "source": [
    "# Importar librería para la conexión con MySQL\n",
    "# -----------------------------------------------------------------------\n",
    "import mysql.connector\n",
    "from mysql.connector import errorcode\n",
    "\n",
    "\n",
    "# Importar librerías para manipulación y análisis de datos\n",
    "# -----------------------------------------------------------------------\n",
    "import pandas as pd\n",
    "import numpy as np"
   ]
  },
  {
   "cell_type": "code",
   "execution_count": null,
   "metadata": {},
   "outputs": [],
   "source": [
    "cnx = mysql.connector.connect(user='root', password='AlumnaAdalab',\n",
    "                              host='127.0.0.1')\n",
    "\n",
    "\n",
    "mycursor = cnx.cursor()\n",
    "try:\n",
    "    mycursor.execute(\"CREATE DATABASE proyecto_#####################\")\n",
    "    print(mycursor)\n",
    "except mysql.connector.Error as err:\n",
    "    print(err)\n",
    "    print(\"Error Code:\", err.errno)\n",
    "    print(\"SQLSTATE\", err.sqlstate)\n",
    "    print(\"Message\", err.msg) \n"
   ]
  },
  {
   "cell_type": "markdown",
   "metadata": {},
   "source": [
    "COLUMNAS DATOS PERSONALES:  \n",
    "\n",
    "PK: crear una con AUTOINCREMENT? \\\\\n",
    "FK:  'employeenumber' \n",
    "\n",
    "'Age', 'Over18, 'Gender,  'Education', 'EducationField',  'MaritalStatus',  'DateBirth' ,  'DistanceFromHome,  'MonthlyIncome',  TotalWorkingYears, NumCompaniesWorked"
   ]
  },
  {
   "cell_type": "markdown",
   "metadata": {},
   "source": [
    "COLUMNAS CONDICIONES LABORALES:\n",
    "\n",
    " PK: 'employeenumber', \n",
    " \n",
    "  'Attrition',  'BusinessTravel,  'Department', 'employeecount',  'HourlyRate',  'JobLevel',  'JobRole',  'OverTime',  'PercentSalaryHike','StandardHours',  'YearsAtCompany', 'YearsInCurrentRole',  'YearsSinceLastPromotion',  'YEARSWITHCURRMANAGER',  DailyRate',  'JobInvolvement',  MonthlyRate"
   ]
  },
  {
   "cell_type": "markdown",
   "metadata": {},
   "source": [
    "COLUMNAS RATIOS: \n",
    "\n",
    "PK: 'employeenumber',\n",
    "\n",
    "'Attrition',  'JobSatisfaction' ,  'EnvironmentSatisfaction',  'RelationshipSatisfaction',   PerformanceRating,   WORKLIFEBALANC"
   ]
  },
  {
   "cell_type": "markdown",
   "metadata": {},
   "source": [
    "TABLAS EXTRAS: \n",
    "\n",
    "PK: 'employeenumber'  -   'Attrition'"
   ]
  },
  {
   "cell_type": "code",
   "execution_count": null,
   "metadata": {},
   "outputs": [],
   "source": []
  },
  {
   "cell_type": "markdown",
   "metadata": {},
   "source": [
    "DUDAS: ( de momento en datos personales) \n",
    "\n",
    "Num_Companies_Worked (numero de compañias donde ha trabjado), Total_Working_Years"
   ]
  },
  {
   "cell_type": "markdown",
   "metadata": {},
   "source": [
    "NO APORTAN A LA BBDD:\n",
    "\n",
    " 'RoleDepartament', 'NUMBERCHILDREN','SameAsMonthlyIncome'"
   ]
  },
  {
   "cell_type": "code",
   "execution_count": null,
   "metadata": {},
   "outputs": [],
   "source": [
    "cnx = mysql.connector.connect(user='root', password='AlumnaAdalab',\n",
    "                              host='127.0.0.1', database='####################')\n",
    "\n",
    "\n",
    "mycursor = cnx.cursor()\n",
    "try:\n",
    "    mycursor.execute(\"CREATE TABLE ##nombre## (###### VARCHAR (50) PRIMARY KEY,###### VARCHAR(100), ######r VARCHAR(50), G######a VARCHAR (250), ###### MEDIUMINT, ###### FLOAT)\")\n",
    "                                            \n",
    "    print(mycursor)\n",
    "except mysql.connector.Error as err:\n",
    "    print(err)\n",
    "    print(\"Error Code:\", err.errno)\n",
    "    print(\"SQLSTATE\", err.sqlstate)\n",
    "    print(\"Message\", err.msg) \n"
   ]
  }
 ],
 "metadata": {
  "language_info": {
   "name": "python"
  }
 },
 "nbformat": 4,
 "nbformat_minor": 2
}
