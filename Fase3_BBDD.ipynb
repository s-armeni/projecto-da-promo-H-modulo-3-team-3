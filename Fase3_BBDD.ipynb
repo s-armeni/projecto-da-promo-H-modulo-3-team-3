{
 "cells": [
  {
   "cell_type": "markdown",
   "metadata": {},
   "source": [
    "## Fase 3: Diseño de BBDD e Insercción de los Datos\n",
    "\n",
    "Esta fase tiene como objetivo la creación y la insercción de datos en una base de datos.\n",
    "- Diseño de la estructura de la Base de Datos Peoplemetrics\n",
    "- Creación de la Base de Datos\n",
    "- Insercción de Datos de los empleados de la empresa"
   ]
  },
  {
   "cell_type": "code",
   "execution_count": 1,
   "metadata": {},
   "outputs": [
    {
     "name": "stdout",
     "output_type": "stream",
     "text": [
      "Requirement already satisfied: mysql-connector in /home/sharon/anaconda3/lib/python3.9/site-packages (2.2.9)\n",
      "Note: you may need to restart the kernel to use updated packages.\n"
     ]
    }
   ],
   "source": [
    "#pip install mysql-connector\n",
    "#pip install mysql-connector-python"
   ]
  },
  {
   "cell_type": "code",
   "execution_count": 1,
   "metadata": {},
   "outputs": [],
   "source": [
    "# Importamos las librerías que necesitamos\n",
    "# -----------------------------------------------------------------------\n",
    "\n",
    "# Librerías para la conexión con MySQL\n",
    "import mysql.connector\n",
    "from mysql.connector import errorcode\n",
    "\n",
    "# Tratamiento de datos\n",
    "# -----------------------------------------------------------------------\n",
    "import pandas as pd"
   ]
  },
  {
   "cell_type": "code",
   "execution_count": 2,
   "metadata": {},
   "outputs": [],
   "source": [
    "# Función para crear la conexión con MySQL\n",
    "\n",
    "def crear_conexion (user, password, host):\n",
    "    \n",
    "    try:\n",
    "        cnx = mysql.connector.connect(user=user, password=password, host=host)\n",
    "\n",
    "    # En caso de que no lo consiga por que hay algún error\n",
    "    except mysql.connector. Error as err:\n",
    "        print(err)\n",
    "        print(\"Error Code:\", err.errno)\n",
    "        print(\"SQLSTATE\", err.sqlstate)\n",
    "        print(\"Message\", err.msg)\n",
    "    \n",
    "    print(\"Connection created successfully\")   \n",
    "    return cnx \n",
    "\n",
    "# Función que nos permite ejecutar diferentes queries\n",
    "\n",
    "def execute_query (cnx, query):\n",
    "    mycursor = cnx.cursor()\n",
    "    try:\n",
    "        mycursor.execute(query)\n",
    "        cnx.commit()\n",
    "        print(\"Query executed successfully\")\n",
    "    except mysql.connector.Error as err:\n",
    "        print(err)\n",
    "        print(\"Error Code:\", err.errno)\n",
    "        print(\"SQLSTATE\", err.sqlstate)\n",
    "        print(\"Message\", err.msg)\n",
    "\n",
    "# Función para crear la bbdd\n",
    "\n",
    "def creacion_bbdd (cnx, query):\n",
    "    execute_query (cnx,query)\n",
    "\n",
    "# Función para establecer la conexión con la bbdd\n",
    "\n",
    "def conexion_bbdd (user, password, host, bbdd):\n",
    "    try:\n",
    "        cnx_bbdd = mysql.connector.connect(user=user, password=password, host=host, database=bbdd)\n",
    "\n",
    "    # En caso de que no lo consigas por que hay algún error\n",
    "    except mysql.connector.Error as err:\n",
    "        print(err)\n",
    "        print(\"Error Code:\", err.errno)\n",
    "        print(\"SQLSTATE\", err.sqlstate)\n",
    "        print(\"Message\", err.msg)\n",
    "    return cnx_bbdd"
   ]
  },
  {
   "cell_type": "code",
   "execution_count": 3,
   "metadata": {},
   "outputs": [
    {
     "name": "stdout",
     "output_type": "stream",
     "text": [
      "Connection created successfully\n",
      "Query executed successfully\n"
     ]
    }
   ],
   "source": [
    "# Conexión a MySQL\n",
    "cnx = crear_conexion ('root', 'AlumnaAdalab', '127.0.0.1')\n",
    "\n",
    "# Creamos la BBDD en MySQL\n",
    "query_creacion_bbdd = \"CREATE DATABASE IF NOT EXISTS peoplemetrics\"\n",
    "creacion_bbdd(cnx, query_creacion_bbdd)\n",
    "\n",
    "# Conexión a la BBDD de MySQL\n",
    "cnx_bbdd = conexion_bbdd ('root', 'AlumnaAdalab', '127.0.0.1', 'peoplemetrics')"
   ]
  },
  {
   "cell_type": "code",
   "execution_count": 4,
   "metadata": {},
   "outputs": [],
   "source": [
    "# Query creación de tablas\n",
    "\n",
    "query_tabla_employees=\"CREATE TABLE IF NOT EXISTS Employees(Id_employees INT AUTO_INCREMENT PRIMARY KEY,employee_count FLOAT,Gender ENUM('Male', 'Female') NOT NULL,Age INT, Marital_status VARCHAR(25), Over_18 VARCHAR (25), Date_birth INT, Employee_number VARCHAR (25));\"\n",
    "\n",
    "query_tabla_job_details=\"CREATE TABLE IF NOT EXISTS Job_details(Id_employees INT AUTO_INCREMENT PRIMARY KEY,Job_role VARCHAR(100), Job_level INT,Business_travel VARCHAR(100), Job_involvement INT, Over_time ENUM('Yes', 'No','Unknown') NOT NULL, Remote_work ENUM('Yes', 'No','Unknown') NOT NULL, Years_at_company INT, Years_since_last_promotion INT, Years_with_curr_manager INT);\"\n",
    "\n",
    "query_tabla_employee_profile=\"CREATE TABLE IF NOT EXISTS Employee_profile (Id_employees INT AUTO_INCREMENT PRIMARY KEY,Education INT,Education_field VARCHAR(100),Num_companies_worked INT,Total_working_years FLOAT);\"\n",
    "\n",
    "query_tabla_salary=\"CREATE TABLE IF NOT EXISTS Salary (Id_employees INT AUTO_INCREMENT PRIMARY KEY,Hourly_rate FLOAT, Daily_rate FLOAT, Monthly_rate FLOAT, Percent_salary_hike FLOAT, Stock_option_level INT,Training_times_last_year INT);\"\n",
    "\n",
    "query_tabla_employee_company=\"CREATE TABLE IF NOT EXISTS Employee_company(Id_employees INT AUTO_INCREMENT PRIMARY KEY,Attrition ENUM('Yes', 'No') NOT NULL,Environment_satisfaction INT,Job_satisfaction INT,Performance_rating FLOAT,Relationship_satisfaction INT,Work_life_balance FLOAT,Distance_from_home FLOAT);\""
   ]
  },
  {
   "cell_type": "code",
   "execution_count": 5,
   "metadata": {},
   "outputs": [
    {
     "name": "stdout",
     "output_type": "stream",
     "text": [
      "Query executed successfully\n",
      "Query executed successfully\n",
      "Query executed successfully\n",
      "Query executed successfully\n",
      "Query executed successfully\n",
      "Tables successfully created\n"
     ]
    }
   ],
   "source": [
    "# Creamos las tablas\n",
    "\n",
    "execute_query(cnx_bbdd,query_tabla_employees)\n",
    "execute_query(cnx_bbdd,query_tabla_job_details)\n",
    "execute_query(cnx_bbdd,query_tabla_employee_profile)\n",
    "execute_query(cnx_bbdd,query_tabla_salary)\n",
    "execute_query(cnx_bbdd,query_tabla_employee_company)\n",
    "\n",
    "print(\"Tables successfully created\")"
   ]
  },
  {
   "cell_type": "code",
   "execution_count": 6,
   "metadata": {},
   "outputs": [],
   "source": [
    "# Creamos la función 'cargar datos' para insertar los datos en las tablas de la base de datos\n",
    "\n",
    "def cargar_datos (user, password, host, bbdd, query, lista_tuplas):\n",
    "    cnx = mysql.connector.connect(user=user, password=password, host=host, database=bbdd)\n",
    "    mycursor = cnx.cursor()\n",
    "    try:\n",
    "          mycursor = cnx.cursor()\n",
    "          mycursor.executemany(query, lista_tuplas)\n",
    "          cnx.commit()\n",
    "          print(mycursor.rowcount, \"row/s inserted successfully\")\n",
    "          cnx.close()\n",
    "    except mysql.connector.Error as err:\n",
    "          print(err)\n",
    "          print(\"Error Code:\", err.errno)\n",
    "          print(\"SQLSTATE\", err.sqlstate)\n",
    "          print(\"Message\", err.msg)\n",
    "          cnx.close()\n",
    "\n",
    "\n",
    "url = \"https://raw.githubusercontent.com/s-armeni/proyecto-da-promo-H-modulo-3-team-3-DataMinds/main/hr_data_final.csv\"\n",
    "\n",
    "# Cargamos el csv\n",
    "\n",
    "df=pd.read_csv(url, index_col=0)\n",
    "\n",
    "# Generamos listas de tuplas con la informarción a insertar para poder insertar los datos\n",
    "\n",
    "datos_tabla_employees=list(zip(df[\"Employee_count\"].values, df[\"Gender\"].values, df[\"Age\"].values, df[\"Marital_status\"].values, df[\"Over_18\"].values,df[\"Date_birth\"].values, df[\"Employee_number\"].values))\n",
    "datos_tabla_employee_profile=list(zip(df[\"Education\"].values, df[\"Education_field\"].values,df[\"Num_companies_worked\"].values,df[\"Total_working_years\"].values))\n",
    "datos_tabla_job_details=list(zip(df[\"Job_role\"].values, df[\"Job_level\"].values, df[\"Business_travel\"].values, df[\"Job_involvement\"].values, df[\"Over_time\"].values,df[\"Remote_work\"].values, df[\"Years_at_company\"].values,df[\"Years_since_last_promotion\"].values, df[\"Years_with_curr_manager\"]))\n",
    "datos_tabla_salary=list(zip(df[\"Hourly_rate\"].values, df[\"Daily_rate\"].values, df[\"Monthly_rate\"].values, df[\"Percent_salary_hike\"].values, df[\"Stock_option_level\"].values,df[\"Training_times_last_year\"].values))\n",
    "datos_tabla_employee_company=list(zip(df[\"Attrition\"].values, df[\"Environment_satisfaction\"].values, df[\"Job_satisfaction\"].values, df[\"Performance_rating\"].values, df[\"Relationship_satisfaction\"].values,df[\"Work_life_balance\"].values,df[\"Distance_from_home\"].values))\n",
    "\n",
    "# Query insercción datos en tablas\n",
    "\n",
    "query_cargar_datos_employees=\"INSERT INTO Employees (Employee_count, Gender, Age, Marital_status, Over_18, Date_birth, Employee_number) VALUES (%s, %s, %s, %s, %s, %s, %s)\"\n",
    "query_cargar_datos_employee_profile=\"INSERT INTO Employee_profile (Education, Education_field, Num_companies_worked, Total_working_years) VALUES (%s, %s, %s, %s)\"\n",
    "query_cargar_datos_job_details=\"INSERT INTO Job_details (Job_role,Job_level,Business_travel,Job_involvement,Over_time,Remote_work,Years_at_company,Years_since_last_promotion,Years_with_curr_manager) VALUES (%s,%s,%s,%s,%s,%s,%s,%s,%s)\"\n",
    "query_cargar_datos_salary=\"INSERT INTO Salary (Hourly_rate,Daily_rate,Monthly_rate,Percent_salary_hike,Stock_option_level,Training_times_last_year) VALUES (%s,%s,%s,%s,%s,%s)\"\n",
    "query_cargar_datos_employee_company=\"INSERT INTO Employee_company(Attrition,Environment_satisfaction,Job_satisfaction,Performance_rating,Relationship_satisfaction,Work_life_balance,Distance_from_home) VALUES (%s,%s,%s,%s,%s,%s,%s)\""
   ]
  },
  {
   "cell_type": "code",
   "execution_count": 7,
   "metadata": {},
   "outputs": [],
   "source": [
    "# Función para convertir los elementos de una lista de tuplas a int \n",
    "\n",
    "def convertir_int(lista_tuplas):\n",
    "    datos_tabla_caract_def = []\n",
    "    for tupla in lista_tuplas:\n",
    "        lista_intermedia = []\n",
    "        for elemento in tupla:\n",
    "            try:\n",
    "                lista_intermedia.append(int(elemento))\n",
    "            except:\n",
    "                lista_intermedia.append(elemento)\n",
    "            \n",
    "        datos_tabla_caract_def.append(tuple(lista_intermedia))\n",
    "    \n",
    "    return datos_tabla_caract_def"
   ]
  },
  {
   "cell_type": "code",
   "execution_count": 8,
   "metadata": {},
   "outputs": [],
   "source": [
    "# Llamamos la función para convertir los elementos de las tuplas\n",
    "\n",
    "datos_employee_profile= convertir_int(datos_tabla_employee_profile)\n",
    "datos_employees=convertir_int(datos_tabla_employees)\n",
    "datos_job_details=convertir_int(datos_tabla_job_details)\n",
    "datos_salary=convertir_int(datos_tabla_salary)"
   ]
  },
  {
   "cell_type": "code",
   "execution_count": 9,
   "metadata": {},
   "outputs": [],
   "source": [
    "# Función para convertir los elementos de tipo numpy.float a float\n",
    "\n",
    "def convertir_float(lista_tuplas):\n",
    "    datos_tabla_caract_def = []\n",
    "    for tupla in lista_tuplas:\n",
    "        lista_intermedia = []\n",
    "        for elemento in tupla:\n",
    "            try:\n",
    "                lista_intermedia.append(float(elemento))\n",
    "            except:\n",
    "                lista_intermedia.append(elemento)\n",
    "            \n",
    "        datos_tabla_caract_def.append(tuple(lista_intermedia))\n",
    "    \n",
    "    return datos_tabla_caract_def"
   ]
  },
  {
   "cell_type": "code",
   "execution_count": 10,
   "metadata": {},
   "outputs": [],
   "source": [
    "# Llamamos la función para convertir los elementos de las tuplas\n",
    "datos_employee_company=convertir_float(datos_tabla_employee_company)"
   ]
  },
  {
   "cell_type": "code",
   "execution_count": 11,
   "metadata": {},
   "outputs": [],
   "source": [
    "# Llamamos a la función cargar_datos para insertar los datos en las tablas "
   ]
  },
  {
   "cell_type": "code",
   "execution_count": 12,
   "metadata": {},
   "outputs": [
    {
     "name": "stdout",
     "output_type": "stream",
     "text": [
      "1614 row/s inserted successfully\n"
     ]
    }
   ],
   "source": [
    "cargar_datos('root', 'AlumnaAdalab', '127.0.0.1', 'peoplemetrics',query_cargar_datos_employee_profile,datos_employee_profile)"
   ]
  },
  {
   "cell_type": "code",
   "execution_count": 13,
   "metadata": {},
   "outputs": [
    {
     "name": "stdout",
     "output_type": "stream",
     "text": [
      "1614 row/s inserted successfully\n"
     ]
    }
   ],
   "source": [
    "cargar_datos('root', 'AlumnaAdalab', '127.0.0.1', 'peoplemetrics',query_cargar_datos_employees,datos_employees)"
   ]
  },
  {
   "cell_type": "code",
   "execution_count": 14,
   "metadata": {},
   "outputs": [
    {
     "name": "stdout",
     "output_type": "stream",
     "text": [
      "1614 row/s inserted successfully\n"
     ]
    }
   ],
   "source": [
    "cargar_datos('root', 'AlumnaAdalab', '127.0.0.1', 'peoplemetrics', query_cargar_datos_job_details,datos_job_details) "
   ]
  },
  {
   "cell_type": "code",
   "execution_count": 15,
   "metadata": {},
   "outputs": [
    {
     "name": "stdout",
     "output_type": "stream",
     "text": [
      "1614 row/s inserted successfully\n"
     ]
    }
   ],
   "source": [
    "cargar_datos('root', 'AlumnaAdalab', '127.0.0.1', 'peoplemetrics', query_cargar_datos_salary, datos_salary)"
   ]
  },
  {
   "cell_type": "code",
   "execution_count": 16,
   "metadata": {},
   "outputs": [
    {
     "name": "stdout",
     "output_type": "stream",
     "text": [
      "1614 row/s inserted successfully\n"
     ]
    }
   ],
   "source": [
    "cargar_datos('root', 'AlumnaAdalab', '127.0.0.1', 'peoplemetrics', query_cargar_datos_employee_company, datos_employee_company)"
   ]
  }
 ],
 "metadata": {
  "kernelspec": {
   "display_name": "Python 3 (ipykernel)",
   "language": "python",
   "name": "python3"
  },
  "language_info": {
   "codemirror_mode": {
    "name": "ipython",
    "version": 3
   },
   "file_extension": ".py",
   "mimetype": "text/x-python",
   "name": "python",
   "nbconvert_exporter": "python",
   "pygments_lexer": "ipython3",
   "version": "3.9.7"
  },
  "toc": {
   "base_numbering": 1,
   "nav_menu": {},
   "number_sections": true,
   "sideBar": true,
   "skip_h1_title": false,
   "title_cell": "Table of Contents",
   "title_sidebar": "Contents",
   "toc_cell": false,
   "toc_position": {
    "height": "calc(100% - 180px)",
    "left": "10px",
    "top": "150px",
    "width": "384px"
   },
   "toc_section_display": true,
   "toc_window_display": true
  },
  "vscode": {
   "interpreter": {
    "hash": "45f2e19768680f736caea9664c7aaaad3b325a359584ead4873ebd33db26fb52"
   }
  }
 },
 "nbformat": 4,
 "nbformat_minor": 2
}
